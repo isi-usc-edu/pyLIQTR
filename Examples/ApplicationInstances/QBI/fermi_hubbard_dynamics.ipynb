{
 "cells": [
  {
   "cell_type": "markdown",
   "id": "9b04f62d",
   "metadata": {},
   "source": [
    "<h2><b>Fermi-Hubbard Dynamics</b></h2>\n",
    "<font size=\"3\">\n",
    "\n",
    "<hr>\n",
    "DISTRIBUTION STATEMENT A. Approved for public release. Distribution is unlimited.\n",
    "\n",
    "This material is based upon work supported by the Under Secretary of Defense for\n",
    "Research and Engineering under Air Force Contract No. FA8702-15-D-0001. Any opinions,\n",
    "findings, conclusions or recommendations expressed in this material are those of the\n",
    "author(s) and do not necessarily reflect the views of the Under Secretary of Defense\n",
    "for Research and Engineering.\n",
    "\n",
    "© 2025 Massachusetts Institute of Technology.\n",
    "\n",
    "The software/firmware is provided to you on an As-Is basis\n",
    "\n",
    "Delivered to the U.S. Government with Unlimited Rights, as defined in DFARS Part\n",
    "252.227-7013 or 7014 (Feb 2014). Notwithstanding any copyright notice, U.S. Government\n",
    "rights in this work are defined by DFARS 252.227-7013 or DFARS 252.227-7014 as detailed\n",
    "above. Use of this work other than as specifically authorized by the U.S. Government\n",
    "may violate any copyrights that exist in this work.\n",
    "<hr><hr>\n",
    "</font>"
   ]
  },
  {
   "cell_type": "markdown",
   "id": "990aa012",
   "metadata": {},
   "source": [
    "<div class=\\\"alert alert-block alert-info\\\"> <b>REFERENCE:</b> A comprehensive description of this application is provided in <a href=\\\"https://arxiv.org/abs/2406.06511\"><b>arXiv:2406.06511</b></a>. </div>"
   ]
  },
  {
   "cell_type": "markdown",
   "id": "326726d3",
   "metadata": {},
   "source": [
    "# 1. Application Overview"
   ]
  },
  {
   "cell_type": "markdown",
   "id": "8bdccb8a",
   "metadata": {},
   "source": [
    "\n",
    "The Fermi-Hubbard (FH) model is essentially a minimal treatment of electronic structure for periodic systems. While reductionistic, this model is believed to capture much of the physics underlying strong correlation. In this case, the electronic properties of a material are described by specifying one or more orbitals on each lattice site. Adjacent sites are coupled using tight-binding terms, while the Coulomb interaction is reduced to an on-site contact interaction between different spin channels.  The resulting Hamiltonian assumes a straightforward form:\n",
    "\n",
    "\\begin{equation}\n",
    "H = \\underbrace{-J\\sum_{\\langle p,q \\rangle,\\sigma} \\left[c^\\dagger_{p,\\sigma} c_{q,\\sigma} + c^\\dagger_{q,\\sigma} c_{p,\\sigma}\\right]}_{\\text{Hopping}} + \\underbrace{U \\sum_{\\langle p \\rangle} n_{p,\\uparrow} n_{p,\\downarrow}}_{\\text{Density Interaction}}.\n",
    "\\end{equation}\n",
    "\n",
    "We have written this example for a single band, e.g., with one orbital per lattice site.  The first term in this Hamiltonian corresponds to a standard tight-binding model.  In the absence of interactions ($U = 0$) this  describes the propagation of fermions between sites at a rate determined by $J$.  The second term delivers a notorious degree of complexity - here, the parameter $U$ specifies the strength of many-body interactions.  These interations modulate the effective hopping rate while tuning on-site carrier and spin densities. Our notation labels the lattice sites using composite indices $p,q$ and introduces $\\sigma \\in \\{\\uparrow,\\downarrow\\}$ to denote the spin eigenstate (we can add an orbital index to $p,q$ in more complex arrangements).  Angle brackets denote summation over nearest-neighbor pairs, while the operators $c^\\dagger_{p,\\sigma}, c_{p,\\sigma}$ describe the creation or annihilation of a spin-$\\sigma$ fermion on the  $p$-th site.  The  $n_{k,\\sigma} = c^\\dagger_{k,\\sigma} c_{k,\\sigma}$ are the corresponding number operators."
   ]
  },
  {
   "cell_type": "markdown",
   "id": "674baaa7",
   "metadata": {},
   "source": [
    "While approximate, the Fermi-Hubbard Hamiltonian is believed to capture many important aspects of electronic correlation (such as the competition between electronic and magnetic orders).  Analytical and numerical results both suggest an intricate phase diagram for this model.  However, many theoretical efforts have been limited by inherent mathematical complexities or the exponential overhead required for precise numerical treatments.  It is nonetheless clear that the interaction strength  $U/J$ and doping fraction have a strong effect on the degree of many-body correlations and the nature of emergent phases. Indeed, prior efforts have suggested that these might span from Mott insulating and antiferromagnetic regimes to (non)-Fermi liquid behavior and unconventional superconducting states.  Verifying these assertions will likely require methods beyond classical computation.  "
   ]
  },
  {
   "cell_type": "markdown",
   "id": "b27e1daf",
   "metadata": {},
   "source": [
    "<hr>"
   ]
  },
  {
   "cell_type": "markdown",
   "id": "4428fd8a",
   "metadata": {},
   "source": [
    "# 2. Baseline Logical Resource Estimates"
   ]
  },
  {
   "cell_type": "markdown",
   "id": "dfb1bff6",
   "metadata": {},
   "source": [
    "For the baseline resource estimates, we use $J=1$ and $U=2$ with lattice size ranging from $N= 2$ to $100$. We estimate the logical resources for time evolution of the Hamiltonian:\n",
    "\\begin{equation}\n",
    "H = \\underbrace{-J\\sum_{\\langle p,q \\rangle,\\sigma} \\left[c^\\dagger_{p,\\sigma} c_{q,\\sigma} + c^\\dagger_{q,\\sigma} c_{p,\\sigma}\\right]}_{\\text{Hopping}} + \\underbrace{U \\sum_{\\langle p \\rangle} n_{p,\\uparrow} n_{p,\\downarrow}}_{\\text{Density Interaction}}.\n",
    "\\end{equation}\n",
    "using qubitized methods with the block encoding given in Section V of [arxiv:1805.03662](https://arxiv.org/abs/1805.03662). We do this for a qsp precision of $4.81\\times 10^{-9}$ and simulation time of $1000\\cdot 2\\pi\\alpha$, where $\\alpha$ is the Hamiltonian norm. A comprehensive overview of the simulation method is provided in [Examples/ApplicationInstances/FermiHubbard/fermi_hubbard-dynamics-qubitized.ipynb](../FermiHubbard/fermi_hubbard-dynamics-qubitized.ipynb).\n",
    "\n",
    "The input parameters are chosen to reflect a high value instance of the model as described in [arxiv:2406.06511](https://arxiv.org/abs/2406.06511). Note that classical methods currently start to falter around $N=20$, so that marks where quantum computing methods may begin to prove useful. We include estimates for $N<20$ for illustrative purposes."
   ]
  },
  {
   "cell_type": "code",
   "execution_count": 1,
   "id": "28b9dffc",
   "metadata": {},
   "outputs": [
    {
     "data": {
      "application/javascript": "// Copyright (c) Microsoft Corporation.\n// Licensed under the MIT License.\n\n// This file provides CodeMirror syntax highlighting for Q# magic cells\n// in classic Jupyter Notebooks. It does nothing in other (Jupyter Notebook 7,\n// VS Code, Azure Notebooks, etc.) environments.\n\n// Detect the prerequisites and do nothing if they don't exist.\nif (window.require && window.CodeMirror && window.Jupyter) {\n  // The simple mode plugin for CodeMirror is not loaded by default, so require it.\n  window.require([\"codemirror/addon/mode/simple\"], function defineMode() {\n    let rules = [\n      {\n        token: \"comment\",\n        regex: /(\\/\\/).*/,\n        beginWord: false,\n      },\n      {\n        token: \"string\",\n        regex: String.raw`^\\\"(?:[^\\\"\\\\]|\\\\[\\s\\S])*(?:\\\"|$)`,\n        beginWord: false,\n      },\n      {\n        token: \"keyword\",\n        regex: String.raw`(namespace|open|as|operation|function|body|adjoint|newtype|controlled|internal)\\b`,\n        beginWord: true,\n      },\n      {\n        token: \"keyword\",\n        regex: String.raw`(if|elif|else|repeat|until|fixup|for|in|return|fail|within|apply)\\b`,\n        beginWord: true,\n      },\n      {\n        token: \"keyword\",\n        regex: String.raw`(Adjoint|Controlled|Adj|Ctl|is|self|auto|distribute|invert|intrinsic)\\b`,\n        beginWord: true,\n      },\n      {\n        token: \"keyword\",\n        regex: String.raw`(let|set|use|borrow|mutable)\\b`,\n        beginWord: true,\n      },\n      {\n        token: \"operatorKeyword\",\n        regex: String.raw`(not|and|or)\\b|(w/)`,\n        beginWord: true,\n      },\n      {\n        token: \"operatorKeyword\",\n        regex: String.raw`(=)|(!)|(<)|(>)|(\\+)|(-)|(\\*)|(/)|(\\^)|(%)|(\\|)|(&&&)|(~~~)|(\\.\\.\\.)|(\\.\\.)|(\\?)`,\n        beginWord: false,\n      },\n      {\n        token: \"meta\",\n        regex: String.raw`(Int|BigInt|Double|Bool|Qubit|Pauli|Result|Range|String|Unit)\\b`,\n        beginWord: true,\n      },\n      {\n        token: \"atom\",\n        regex: String.raw`(true|false|Pauli(I|X|Y|Z)|One|Zero)\\b`,\n        beginWord: true,\n      },\n    ];\n    let simpleRules = [];\n    for (let rule of rules) {\n      simpleRules.push({\n        token: rule.token,\n        regex: new RegExp(rule.regex, \"g\"),\n        sol: rule.beginWord,\n      });\n      if (rule.beginWord) {\n        // Need an additional rule due to the fact that CodeMirror simple mode doesn't work with ^ token\n        simpleRules.push({\n          token: rule.token,\n          regex: new RegExp(String.raw`\\W` + rule.regex, \"g\"),\n          sol: false,\n        });\n      }\n    }\n\n    // Register the mode defined above with CodeMirror\n    window.CodeMirror.defineSimpleMode(\"qsharp\", { start: simpleRules });\n    window.CodeMirror.defineMIME(\"text/x-qsharp\", \"qsharp\");\n\n    // Tell Jupyter to associate %%qsharp magic cells with the qsharp mode\n    window.Jupyter.CodeCell.options_default.highlight_modes[\"qsharp\"] = {\n      reg: [/^%%qsharp/],\n    };\n\n    // Force re-highlighting of all cells the first time this code runs\n    for (const cell of window.Jupyter.notebook.get_cells()) {\n      cell.auto_highlight();\n    }\n  });\n}\n",
      "text/plain": []
     },
     "metadata": {},
     "output_type": "display_data"
    }
   ],
   "source": [
    "from    pyLIQTR.ProblemInstances.getInstance                  import   getInstance\n",
    "from    pyLIQTR.clam.lattice_definitions                      import   SquareLattice\n",
    "from    pyLIQTR.BlockEncodings.getEncoding                    import   getEncoding, VALID_ENCODINGS\n",
    "from    pyLIQTR.qubitization.qsvt_dynamics                    import   qsvt_dynamics\n",
    "from    pyLIQTR.utils.resource_analysis                       import   estimate_resources\n",
    "import  numpy as np"
   ]
  },
  {
   "cell_type": "markdown",
   "id": "b471405c",
   "metadata": {},
   "source": [
    "The resource estimates for the full range take around 1 hour to run. The precomputed counts are provided below."
   ]
  },
  {
   "cell_type": "code",
   "execution_count": null,
   "id": "51960eda",
   "metadata": {},
   "outputs": [],
   "source": [
    "Ns = [2, 5, 10, 20, 40, 75, 100]\n",
    "all_re = {}\n",
    "\n",
    "for N in Ns:\n",
    "    print(f\"Generating resource estimate for N = {N}...\")\n",
    "    J      =  -1.0     \n",
    "    U      =  2.0         \n",
    "    shape  =  (N,N)\n",
    "\n",
    "    # generate the Hamiltonian model for the given lattic size\n",
    "    model   =   getInstance('FermiHubbard',shape=shape, J=J, U=U, cell=SquareLattice)\n",
    "\n",
    "    # generate the block encoding\n",
    "    block_encoding   =   getEncoding(VALID_ENCODINGS.FermiHubbardSquare)(model)\n",
    "\n",
    "    # set dynamics parameters\n",
    "    eps = 4.81e-9\n",
    "    time = 2000*np.pi*block_encoding.alpha\n",
    "    \n",
    "    # generate the full qsvt circuit\n",
    "    gate_qsvt   =  qsvt_dynamics(encoding=getEncoding(VALID_ENCODINGS.FermiHubbardSquare),\n",
    "                               instance=model,\n",
    "                               eps=eps,\n",
    "                               times=time,\n",
    "                               phase_algorithm=\"random\",\n",
    "                               time_rescale=False)\n",
    "    \n",
    "    # estimate the logical resources\n",
    "    resource_estimate  =  estimate_resources(gate_qsvt)\n",
    "\n",
    "    all_re[N] = resource_estimate"
   ]
  },
  {
   "cell_type": "code",
   "execution_count": 2,
   "id": "e6d28066",
   "metadata": {},
   "outputs": [],
   "source": [
    "# precomputed\n",
    "all_re = {\n",
    " 2: {'LogicalQubits': 21, 'T': 600043194, 'Clifford': 1377017067},\n",
    " 5: {'LogicalQubits': 73, 'T': 8067350158, 'Clifford': 21465432583},\n",
    " 10: {'LogicalQubits': 228, 'T': 49496090538, 'Clifford': 163034147799},\n",
    " 20: {'LogicalQubits': 833, 'T': 456895559810, 'Clifford': 1844344787443},\n",
    " 40: {'LogicalQubits': 3238, 'T': 5903284173946, 'Clifford': 26282475703839},\n",
    " 75: {'LogicalQubits': 11293, 'T': 68743872855142, 'Clifford': 315352430206439},\n",
    " 100: {'LogicalQubits': 20043, 'T': 214472818210254, 'Clifford': 989674554689751}\n",
    " }"
   ]
  },
  {
   "cell_type": "markdown",
   "id": "b5dc05e7",
   "metadata": {},
   "source": [
    "## Plot"
   ]
  },
  {
   "cell_type": "markdown",
   "id": "bcf8e0de",
   "metadata": {},
   "source": [
    "Here, we plot the computation size versus the system size. The computation size is calculated as the number of T gates multiplied by the number of logical qubits and the system size is the number of logical qubits. "
   ]
  },
  {
   "cell_type": "code",
   "execution_count": 3,
   "id": "aca3184d",
   "metadata": {},
   "outputs": [
    {
     "data": {
      "image/png": "[encoded data removed]",
      "text/plain": [
       "<Figure size 640x480 with 1 Axes>"
      ]
     },
     "metadata": {},
     "output_type": "display_data"
    }
   ],
   "source": [
    "import matplotlib.pyplot as plt\n",
    "\n",
    "system_size = []\n",
    "computation_size = []\n",
    "for N in all_re:\n",
    "    system_size += [all_re[N]['LogicalQubits']]\n",
    "    computation_size += [all_re[N]['LogicalQubits']*all_re[N]['T']]\n",
    "\n",
    "plot_color = 'orange'\n",
    "fig, ax = plt.subplots()\n",
    "ax.scatter(system_size, computation_size, facecolors=plot_color,label = 'Fermi-Hubbard dynamics')\n",
    "ax.set_xlabel('System Size (Number of Computational Qubits)')\n",
    "ax.set_ylabel('Computation Size (Number of Operations)')\n",
    "ax.set_xscale('log')\n",
    "ax.set_yscale('log')\n",
    "plt.legend();"
   ]
  },
  {
   "cell_type": "markdown",
   "id": "8461f29c",
   "metadata": {},
   "source": [
    "## save output"
   ]
  },
  {
   "cell_type": "markdown",
   "id": "cc5cb720",
   "metadata": {},
   "source": [
    "We can save the estimates to a json file formatted for easy input to the QB Plot Tool."
   ]
  },
  {
   "cell_type": "code",
   "execution_count": 4,
   "id": "f813c990",
   "metadata": {},
   "outputs": [],
   "source": [
    "from pyLIQTR.utils.resource_analysis import write_resource_estimation_json\n",
    "\n",
    "write_resource_estimation_json(estimates=all_re,application_id='fermi_hubbard_dynamics',category='scientific',plot_legend_name='Fermi-Hubbard dynamics',plot_color=plot_color,reference='')"
   ]
  },
  {
   "cell_type": "markdown",
   "id": "686c33ab",
   "metadata": {},
   "source": [
    "<hr>"
   ]
  },
  {
   "cell_type": "markdown",
   "id": "a4a0bef7",
   "metadata": {},
   "source": [
    "With the application circuit in hand, we can do further analysis using the pyLIQTR scheduling, qasm printing, and circuit decomposition capabilities. Please see the [Best Practices](https://isi-usc-edu.github.io/pyLIQTR/_build/html/best_practice.html) for guidance on how to use these tools and refer to the notebooks in [Examples/ApplicationInstances/](../) for detailed demonstrations."
   ]
  }
 ],
 "metadata": {
  "kernelspec": {
   "display_name": "pyL-new",
   "language": "python",
   "name": "python3"
  },
  "language_info": {
   "codemirror_mode": {
    "name": "ipython",
    "version": 3
   },
   "file_extension": ".py",
   "mimetype": "text/x-python",
   "name": "python",
   "nbconvert_exporter": "python",
   "pygments_lexer": "ipython3",
   "version": "3.11.5"
  }
 },
 "nbformat": 4,
 "nbformat_minor": 5
}
