{
 "cells": [
  {
   "cell_type": "markdown",
   "id": "d258975f",
   "metadata": {},
   "source": [
    "<h2><b>Corrosion Resistant Materials</b></h2>\n",
    "<font size=\"3\">\n",
    "\n",
    "<hr>\n",
    "DISTRIBUTION STATEMENT A. Approved for public release. Distribution is unlimited.\n",
    "\n",
    "This material is based upon work supported by the Under Secretary of Defense for\n",
    "Research and Engineering under Air Force Contract No. FA8702-15-D-0001. Any opinions,\n",
    "findings, conclusions or recommendations expressed in this material are those of the\n",
    "author(s) and do not necessarily reflect the views of the Under Secretary of Defense\n",
    "for Research and Engineering.\n",
    "\n",
    "© 2025 Massachusetts Institute of Technology.\n",
    "\n",
    "The software/firmware is provided to you on an As-Is basis\n",
    "\n",
    "Delivered to the U.S. Government with Unlimited Rights, as defined in DFARS Part\n",
    "252.227-7013 or 7014 (Feb 2014). Notwithstanding any copyright notice, U.S. Government\n",
    "rights in this work are defined by DFARS 252.227-7013 or DFARS 252.227-7014 as detailed\n",
    "above. Use of this work other than as specifically authorized by the U.S. Government\n",
    "may violate any copyrights that exist in this work.\n",
    "<hr><hr>\n",
    "</font>"
   ]
  },
  {
   "cell_type": "markdown",
   "id": "8f050ac7",
   "metadata": {},
   "source": [
    "<div class=\\\"alert alert-block alert-info\\\"> <b>REFERENCE:</b> A comprehensive description of this application is provided in <a href=\\\"https://arxiv.org/abs/2406.18759\"><b>arXiv:2406.18759</b></a>. We provide a brief summary below.</div>"
   ]
  },
  {
   "cell_type": "markdown",
   "id": "d19dfdc6",
   "metadata": {},
   "source": [
    "# 1. Application Overview"
   ]
  },
  {
   "cell_type": "markdown",
   "id": "df1365b8",
   "metadata": {},
   "source": [
    "Corrosion is a pervasive issue that impacts the structural integrity and performance of materials across various industries, imposing a significant economic impact globally. In fields like aerospace and defense, developing corrosion-resistant materials is critical, but progress is often hindered by the complexities of material-environment interactions. While computational methods have advanced in designing corrosion inhibitors and corrosion-resistant materials, they fall short in understanding the fundamental corrosion mechanisms due to the highly correlated nature of the systems involved. A hybrid classical-quantum workflow could offer a path forward for investigating these mechanisms.\n",
    "\n",
    "For this application, we look at two classes of alloys: one set of magnesium models, and one set of niobium models. The model we use is the electronic structure Hamiltonian expressed in a periodic basis. One subtlety with this basis selection is the use of pseudopotentials to represent core\n",
    "electrons as a classical potential, leading to lower energy cutoffs and smaller basis sets. This is a common technique used in classical computing methods, but its effect on computational resources in quantum methods is underexplored. As such, **we include two estimates below**. The first assumes all electrons are included in the calculation, which limits the additional costs from pseudopotentials. The second uses only valence electrons and should be viewed as an optimistic estimate since it does not include the additional resources needed to encode the pseudopotentials.\n",
    "\n",
    "For these estimates, there are two relevant models. One is the first-quantized, plane-wave basis Hamiltonian which under the Born-Oppenheimer approximation can be expressed as\n",
    "\n",
    "\\begin{align*}\n",
    "H &= T + U + V + \\frac{1}{2}\\sum_{\\ell\\neq\\kappa=1}^L \\frac{\\zeta_\\ell \\zeta_\\kappa}{||R_\\ell - R_\\kappa||} \n",
    "&T& = \\sum_{i=1}^\\eta \\sum_{p\\in G} \\frac{||k_p||^2}{2} |p\\rangle \\langle p|_i \\\\\n",
    "U &= -\\frac{4\\pi}{\\Omega} \\sum_{\\ell=1}^{L}\\sum_{i=1}^{\\eta}\\sum_{\\substack{p,q\\in G \\\\ p\\neq q}} \\left( \\zeta_\\ell \\frac{e^{ik_{q-p}\\cdot R_\\ell}}{||k_{p-q}||^2}\\right) |p\\rangle \\langle q|_i \n",
    "&V& = \\frac{2\\pi}{\\Omega} \\sum_{i\\neq j = 1}^\\eta \\sum_{p,q \\in G} \\sum_{\\substack{\\nu\\in G_0 \\\\ (p+\\nu)\\in G\\\\ (q-\\nu)\\in G}} \\frac{1}{||k_\\nu||^2} |p+\\nu\\rangle\\langle p|_i |q-\\nu\\rangle\\langle q|_j,\n",
    "\\end{align*}\n",
    "\n",
    "where $\\eta$ is the number of electrons, $L$ is the number of atoms, $R_\\ell$ is the location of each atom, $\\zeta_\\ell$ is the atomic number, $\\Omega$ is the computational cell volume, $k_p=\\frac{2\\pi p}{\\Omega^{1/3}}$ is a 3-dimensional recipricol lattice vector, $p\\in G$,\n",
    "\n",
    "$$\n",
    "G = \\left[-\\frac{N^{1/3}-1}{2}, \\frac{N^{1/3}-1}{2} \\right]^3 \\subset \\mathbb{Z}^3, \\quad \\quad \\quad G_0 = \\left[-N^{1/3}, N^{1/3} \\right]^3 \\subset \\mathbb{Z}^3 \\backslash \\{(0,0,0)\\},\n",
    "$$\n",
    "and $N$ is the number of plane waves making up the basis.\n",
    "\n",
    "The second is the second-quantized, dual plane-wave basis Hamiltonian, expressed as:\n",
    "\n",
    "$$\n",
    "H = \\sum_{p,q,\\sigma} T(p-q) a^\\dagger_{p,\\sigma}a_{q,\\sigma} + \\sum_{p,\\sigma} U(p) n_{p,\\sigma} + \\sum_{(p,\\alpha)\\neq(q,\\beta)} V(p-q)n_{p,\\alpha}n_{q,\\beta}\n",
    "$$\n",
    "\n",
    "with \n",
    "\n",
    "$$\n",
    "T(p) = \\sum_\\nu \\frac{k_\\nu^2 \\cos(k_\\nu \\cdot r_p)}{2N}, \\quad U(p) = -\\frac{4\\pi\\zeta_j \\cos(k_\\nu\\cdot R_j - k_\\nu\\cdot r_p)}{\\Omega k_\\nu^2}, \\quad V(p) = \\sum_{\\nu\\neq 0}\\frac{2\\pi\\cos(k_\\nu\\cdot r_p)}{\\Omega k_\\nu^2}\n",
    "$$\n",
    "\n",
    "where $a^\\dagger_{p,\\sigma}$ and $a_{p,\\sigma}$ are fermionic creation and annihilation operators on spatial orbital $p$ with spin $\\sigma \\in \\{\\uparrow,\\downarrow\\}$, $n_{p,\\sigma} = a^\\dagger_{p,\\sigma}a_{p,\\sigma}$ is the number operator, and $r_p = p (2\\Omega/N)^{1/3}$ is an orbital centroid.\n",
    "\n",
    "Using these formulations, we will look at a set of magnesium models and a set of niobium models of varying complexity that are representative of systems of interest to corrosion scientists. Quantum chemistry simulations for these types of systems are used for predicting electronic structure properties and improving material design. The use of a quantum computer in this workflow has the potential to improve the accuracy over classical simulations and to extend simulations to more complex systems."
   ]
  },
  {
   "cell_type": "markdown",
   "id": "048a464e",
   "metadata": {},
   "source": [
    "<hr>"
   ]
  },
  {
   "cell_type": "markdown",
   "id": "9dcd001d",
   "metadata": {},
   "source": [
    "# 2. Baseline Logical Resource Estimates"
   ]
  },
  {
   "cell_type": "markdown",
   "id": "d88a0cf6",
   "metadata": {},
   "source": [
    "For the baseline resource estimates, we use the molecular parameters from [arxiv:2406.18759](https://arxiv.org/abs/2406.18759) summarized in the tables below. We estimate the logical resources for qubitized phase estimation with the block encoding given in Section II of [arxiv:2105.12767](https://arxiv.org/abs/2105.12767) in the first quantized case and the block encoding given in Section IV of [arxiv:1805.03662](https://arxiv.org/abs/1805.03662) in the second quantized case. We do this for an energy cutoff of $40$ Ry and an allowable RMS error of $0.001$ in the estimated energy. Comprehensive overviews of the simulation methods are provided in [Examples/ApplicationInstances/PeriodicChemistry/encoding_in_first_quantization.ipynb](../PeriodicChemistry/encoding_in_first_quantization.ipynb) and [Examples/ApplicationInstances/PeriodicChemistry/resource_estimates-electronic_structure-mg_slab.ipynb](../PeriodicChemistry/resource_estimates-electronic_structure-mg_slab.ipynb)."
   ]
  },
  {
   "cell_type": "code",
   "execution_count": 1,
   "id": "bd9a34f5",
   "metadata": {},
   "outputs": [
    {
     "data": {
      "application/javascript": "// Copyright (c) Microsoft Corporation.\n// Licensed under the MIT License.\n\n// This file provides CodeMirror syntax highlighting for Q# magic cells\n// in classic Jupyter Notebooks. It does nothing in other (Jupyter Notebook 7,\n// VS Code, Azure Notebooks, etc.) environments.\n\n// Detect the prerequisites and do nothing if they don't exist.\nif (window.require && window.CodeMirror && window.Jupyter) {\n  // The simple mode plugin for CodeMirror is not loaded by default, so require it.\n  window.require([\"codemirror/addon/mode/simple\"], function defineMode() {\n    let rules = [\n      {\n        token: \"comment\",\n        regex: /(\\/\\/).*/,\n        beginWord: false,\n      },\n      {\n        token: \"string\",\n        regex: String.raw`^\\\"(?:[^\\\"\\\\]|\\\\[\\s\\S])*(?:\\\"|$)`,\n        beginWord: false,\n      },\n      {\n        token: \"keyword\",\n        regex: String.raw`(namespace|open|as|operation|function|body|adjoint|newtype|controlled|internal)\\b`,\n        beginWord: true,\n      },\n      {\n        token: \"keyword\",\n        regex: String.raw`(if|elif|else|repeat|until|fixup|for|in|return|fail|within|apply)\\b`,\n        beginWord: true,\n      },\n      {\n        token: \"keyword\",\n        regex: String.raw`(Adjoint|Controlled|Adj|Ctl|is|self|auto|distribute|invert|intrinsic)\\b`,\n        beginWord: true,\n      },\n      {\n        token: \"keyword\",\n        regex: String.raw`(let|set|use|borrow|mutable)\\b`,\n        beginWord: true,\n      },\n      {\n        token: \"operatorKeyword\",\n        regex: String.raw`(not|and|or)\\b|(w/)`,\n        beginWord: true,\n      },\n      {\n        token: \"operatorKeyword\",\n        regex: String.raw`(=)|(!)|(<)|(>)|(\\+)|(-)|(\\*)|(/)|(\\^)|(%)|(\\|)|(&&&)|(~~~)|(\\.\\.\\.)|(\\.\\.)|(\\?)`,\n        beginWord: false,\n      },\n      {\n        token: \"meta\",\n        regex: String.raw`(Int|BigInt|Double|Bool|Qubit|Pauli|Result|Range|String|Unit)\\b`,\n        beginWord: true,\n      },\n      {\n        token: \"atom\",\n        regex: String.raw`(true|false|Pauli(I|X|Y|Z)|One|Zero)\\b`,\n        beginWord: true,\n      },\n    ];\n    let simpleRules = [];\n    for (let rule of rules) {\n      simpleRules.push({\n        token: rule.token,\n        regex: new RegExp(rule.regex, \"g\"),\n        sol: rule.beginWord,\n      });\n      if (rule.beginWord) {\n        // Need an additional rule due to the fact that CodeMirror simple mode doesn't work with ^ token\n        simpleRules.push({\n          token: rule.token,\n          regex: new RegExp(String.raw`\\W` + rule.regex, \"g\"),\n          sol: false,\n        });\n      }\n    }\n\n    // Register the mode defined above with CodeMirror\n    window.CodeMirror.defineSimpleMode(\"qsharp\", { start: simpleRules });\n    window.CodeMirror.defineMIME(\"text/x-qsharp\", \"qsharp\");\n\n    // Tell Jupyter to associate %%qsharp magic cells with the qsharp mode\n    window.Jupyter.CodeCell.options_default.highlight_modes[\"qsharp\"] = {\n      reg: [/^%%qsharp/],\n    };\n\n    // Force re-highlighting of all cells the first time this code runs\n    for (const cell of window.Jupyter.notebook.get_cells()) {\n      cell.auto_highlight();\n    }\n  });\n}\n",
      "text/plain": []
     },
     "metadata": {},
     "output_type": "display_data"
    }
   ],
   "source": [
    "import numpy as np\n",
    "from pyLIQTR.ProblemInstances.getInstance   import *\n",
    "from pyLIQTR.BlockEncodings.getEncoding     import *\n",
    "from pyLIQTR.utils.resource_analysis        import estimate_resources\n",
    "from pyLIQTR.qubitization.phase_estimation  import QubitizedPhaseEstimation"
   ]
  },
  {
   "cell_type": "markdown",
   "id": "93916e24",
   "metadata": {},
   "source": [
    "## Estimate using all electrons"
   ]
  },
  {
   "cell_type": "code",
   "execution_count": null,
   "id": "72bb1aba",
   "metadata": {},
   "outputs": [],
   "source": [
    "all_re = {}"
   ]
  },
  {
   "cell_type": "markdown",
   "id": "334fddb9",
   "metadata": {},
   "source": [
    "### Magnesium Models"
   ]
  },
  {
   "cell_type": "markdown",
   "id": "34e1b9fd",
   "metadata": {},
   "source": [
    "For the magnesium models, we use the first quantized, plane-wave model. The resource estimates for the Supercell model take around 1.5 hours to run. All others run in 20 minutes or less. The precomputed counts are provided below."
   ]
  },
  {
   "cell_type": "markdown",
   "id": "04bf55a8",
   "metadata": {},
   "source": [
    "<b>Table 1:</b> Properties of magnesium models relevant for the first quantized block encoding with $E_{\\text{cut}}$=40 Ry.\n",
    "\n",
    "| Model | $\\eta$ | $\\lambda_{\\zeta} = \\sum_\\ell \\zeta_\\ell$ | $L$ | Cell size ($\\text{\\r{A}}$)|\n",
    "| --- | --- | --- | --- | --- |\n",
    "| Mg Dimer | 788 | 788 | 76 | 12.7 x 12.7 x 19.9 |\n",
    "| Mg Monolayer | 2419 | 2419 | 335 | 19.8 x 19.8 x 32.3 |\n",
    "| Mg Cluster | 3907 | 3907 | 887 | 19.8 x 19.8 x 58.9 |\n",
    "| $\\text{Mg}_{17}\\text{Al}_{12}$ 2nd phase supercell | 10620 | 10620 | 1107 | 33.0 x 31.3 x 50.3 |\n",
    "\n",
    "<a id='tab1'></a>\n",
    "Note $\\eta = \\lambda_\\zeta$ for charge neutral systems."
   ]
  },
  {
   "cell_type": "code",
   "execution_count": null,
   "id": "e2166c20",
   "metadata": {},
   "outputs": [],
   "source": [
    "# set energy cutoff\n",
    "E_cut_off = 40\n",
    "\n",
    "# set precision parameters\n",
    "eps = 1e-3\n",
    "eps_M = eps_T = eps_R = eps/10\n",
    "eps_pha = np.sqrt(eps**2 - (eps_M+eps_R+eps_T)**2)"
   ]
  },
  {
   "cell_type": "code",
   "execution_count": null,
   "id": "c38fb5eb",
   "metadata": {},
   "outputs": [],
   "source": [
    "### Mg Dimer\n",
    "lengths            =  [12.7,12.7,19.9]\n",
    "mg_dimer_instance  =  getInstance('MoleculeParameters',num_electrons=788,num_atoms=76,sum_atomic_num=788,cell_volume=np.prod(lengths), E_cut_off=E_cut_off, lengths=lengths)\n",
    "mg_dimer_encoding  =  getEncoding(VALID_ENCODINGS.FirstQuantized, instance=mg_dimer_instance, eps_M=eps_M,eps_R=eps_R,eps_T=eps_T)\n",
    "mg_dimer_qpe       =  QubitizedPhaseEstimation(mg_dimer_encoding,eps=eps_pha)\n",
    "mg_dimer_resources =  estimate_resources(mg_dimer_qpe)\n",
    "all_re[\"Mg Dimer\"] =  mg_dimer_resources"
   ]
  },
  {
   "cell_type": "code",
   "execution_count": null,
   "id": "5798f78a",
   "metadata": {},
   "outputs": [],
   "source": [
    "### Mg Monolayer\n",
    "lengths                =  [19.8,19.8,32.3]\n",
    "mg_monolayer_instance  =  getInstance('MoleculeParameters',num_electrons=2419,num_atoms=335,sum_atomic_num=2419,cell_volume=np.prod(lengths), E_cut_off=E_cut_off, lengths=lengths)\n",
    "mg_monolayer_encoding  =  getEncoding(VALID_ENCODINGS.FirstQuantized, instance=mg_monolayer_instance, eps_M=eps_M,eps_R=eps_R,eps_T=eps_T)\n",
    "mg_monolayer_qpe       =  QubitizedPhaseEstimation(mg_monolayer_encoding,eps=eps_pha)\n",
    "mg_monolayer_resources =  estimate_resources(mg_monolayer_qpe)\n",
    "all_re[\"Mg Monolayer\"] =  mg_monolayer_resources"
   ]
  },
  {
   "cell_type": "code",
   "execution_count": null,
   "id": "9b592a9a",
   "metadata": {},
   "outputs": [],
   "source": [
    "### Mg Cluster\n",
    "lengths              =  [19.8,19.8,32.3]\n",
    "mg_cluster_instance  =  getInstance('MoleculeParameters',num_electrons=3907,num_atoms=887,sum_atomic_num=3907,cell_volume=np.prod(lengths), E_cut_off=E_cut_off, lengths=lengths)\n",
    "mg_cluster_encoding  =  getEncoding(VALID_ENCODINGS.FirstQuantized, instance=mg_cluster_instance, eps_M=eps_M,eps_R=eps_R,eps_T=eps_T)\n",
    "mg_cluster_qpe       =  QubitizedPhaseEstimation(mg_cluster_encoding,eps=eps_pha)\n",
    "mg_cluster_resources =  estimate_resources(mg_cluster_qpe)\n",
    "all_re[\"Mg Cluster\"] =  mg_cluster_resources\n"
   ]
  },
  {
   "cell_type": "code",
   "execution_count": null,
   "id": "05b2d226",
   "metadata": {},
   "outputs": [],
   "source": [
    "### (Mg17)(Al12) Secondary-phase Supercell\n",
    "lengths                =  [33.0,31.3,50.3]\n",
    "mg_supercell_instance  =  getInstance('MoleculeParameters',num_electrons=10620,num_atoms=1107,sum_atomic_num=10620,cell_volume=np.prod(lengths), E_cut_off=E_cut_off, lengths=lengths)\n",
    "mg_supercell_encoding  =  getEncoding(VALID_ENCODINGS.FirstQuantized, instance=mg_supercell_instance, eps_M=eps_M,eps_R=eps_R,eps_T=eps_T)\n",
    "mg_supercell_qpe       =  QubitizedPhaseEstimation(mg_supercell_encoding,eps=eps_pha)\n",
    "mg_supercell_resources =  estimate_resources(mg_supercell_qpe)\n",
    "all_re[\"(Mg17)(Al12) Secondary-phase Supercell\"] =  mg_supercell_resources"
   ]
  },
  {
   "cell_type": "markdown",
   "id": "1d277ffe",
   "metadata": {},
   "source": [
    "### Niobium Models"
   ]
  },
  {
   "cell_type": "markdown",
   "id": "37e5f034",
   "metadata": {},
   "source": [
    "For the Niobium models we use the second quantized, dual plane-wave model. Since generating the input files for this model is computationally intensive, the two larger models use an energy cutoff of 30 Ry instead of 40 Ry. Each estimate runs in about 20 minutes. The precomputed counts are provided below."
   ]
  },
  {
   "cell_type": "code",
   "execution_count": 16,
   "id": "3c91240c",
   "metadata": {},
   "outputs": [],
   "source": [
    "def get_approx_error(energy_error,alpha,num_coeffs,digits=1):\n",
    "    \"\"\"calculates upper bound on approx_error given desired precision of estimated energy spectra (energy_error) and Hamiltonian norm (alpha). Based on Eq. 36 in https://arxiv.org/pdf/1805.03662.pdf\"\"\"\n",
    "    mu = np.ceil(np.log2(2*np.sqrt(2)*alpha / energy_error))\n",
    "    approx_error_upper_bound = 1/(2**mu * num_coeffs)\n",
    "    power = \"{:e}\".format(approx_error_upper_bound).split('e')[1]\n",
    "    return round(approx_error_upper_bound, -(int(power) - digits))"
   ]
  },
  {
   "cell_type": "code",
   "execution_count": null,
   "id": "cd6be031",
   "metadata": {},
   "outputs": [],
   "source": [
    "### (Nb97)(Hf3)(Ti22)(Zr6)(O)\n",
    "hamfile = './corrosion_resistant_materials_data/nb_alloy1_30_ham.hdf5'\n",
    "gridfile = './corrosion_resistant_materials_data/nb_alloy1_30_grid.hdf5'\n",
    "energy_error = 1e-3\n",
    "alpha = 1.55e6\n",
    "\n",
    "slab = getInstance('ElectronicStructure', filenameH=hamfile, filenameG=gridfile)\n",
    "num_coeffs = 3*2*slab._N\n",
    "approx_error = get_approx_error(energy_error=energy_error,alpha=alpha,num_coeffs=num_coeffs)\n",
    "encoding = getEncoding(VALID_ENCODINGS.LinearT,instance = slab,approx_error=approx_error)\n",
    "prec  =  int(np.ceil( np.log2( (np.sqrt(2.0)*np.pi*alpha) / (2*energy_error) ) ))\n",
    "qpe = QubitizedPhaseEstimation(encoding,prec=prec)\n",
    "nb_1_resources = estimate_resources(qpe.circuit,circuit_precision=1e-4)\n",
    "all_re[\"(Nb97)(Hf3)(Ti22)(Zr6)(O)\"] =  nb_1_resources"
   ]
  },
  {
   "cell_type": "code",
   "execution_count": null,
   "id": "4dc2cbca",
   "metadata": {},
   "outputs": [],
   "source": [
    "### (Nb97)(Ta22)(Zr3)(W6)(O)\n",
    "hamfile = './corrosion_resistant_materials_data/nb_alloy2_30_ham.hdf5'\n",
    "gridfile = './corrosion_resistant_materials_data/nb_alloy2_30_grid.hdf5'\n",
    "energy_error = 1e-3\n",
    "alpha = 1.55e6\n",
    "\n",
    "slab = getInstance('ElectronicStructure', filenameH=hamfile, filenameG=gridfile)\n",
    "num_coeffs = 3*2*slab._N\n",
    "approx_error = get_approx_error(energy_error=energy_error,alpha=alpha,num_coeffs=num_coeffs)\n",
    "encoding = getEncoding(VALID_ENCODINGS.LinearT,instance = slab,approx_error=approx_error)\n",
    "prec  =  int(np.ceil( np.log2( (np.sqrt(2.0)*np.pi*alpha) / (2*energy_error) ) ))\n",
    "qpe = QubitizedPhaseEstimation(encoding,prec=prec)\n",
    "nb_2_resources = estimate_resources(qpe.circuit,circuit_precision=1e-4)\n",
    "all_re[\"(Nb97)(Ta22)(Zr3)(W6)(O)\"] = nb_2_resources"
   ]
  },
  {
   "cell_type": "code",
   "execution_count": null,
   "id": "57d543c6",
   "metadata": {},
   "outputs": [],
   "source": [
    "### (Nb42)(Ti3)(Hf3)(Ta3)(Zr3)(O)\n",
    "hamfile = './corrosion_resistant_materials_data/nb_oxygen_40_ham.hdf5'\n",
    "gridfile = './corrosion_resistant_materials_data/nb_oxygen_40_grid.hdf5'\n",
    "energy_error = 1e-3\n",
    "alpha = 1.18e6\n",
    "\n",
    "slab = getInstance('ElectronicStructure', filenameH=hamfile, filenameG=gridfile)\n",
    "num_coeffs = 3*2*slab._N\n",
    "approx_error = get_approx_error(energy_error=energy_error,alpha=alpha,num_coeffs=num_coeffs)\n",
    "encoding = getEncoding(VALID_ENCODINGS.LinearT,instance = slab,approx_error=approx_error)\n",
    "prec  =  int(np.ceil( np.log2( (np.sqrt(2.0)*np.pi*alpha) / (2*energy_error) ) ))\n",
    "qpe = QubitizedPhaseEstimation(encoding,prec=prec)\n",
    "nb_3_resources = estimate_resources(qpe.circuit,circuit_precision=1e-4)\n",
    "all_re[\"(Nb42)(Ti3)(Hf3)(Ta3)(Zr3)(O)\"] =  nb_3_resources"
   ]
  },
  {
   "cell_type": "code",
   "execution_count": null,
   "id": "92ef613c",
   "metadata": {},
   "outputs": [],
   "source": [
    "### (Nb65)(Zr6)(Hf7)(Ti4)(W3)\n",
    "hamfile = './corrosion_resistant_materials_data/nb_alloy_wo_oxygen_40_ham.hdf5'\n",
    "gridfile = './corrosion_resistant_materials_data/nb_alloy_wo_oxygen_40_grid.hdf5'\n",
    "energy_error = 1e-3\n",
    "alpha = 1.69e6\n",
    "\n",
    "slab = getInstance('ElectronicStructure', filenameH=hamfile, filenameG=gridfile)\n",
    "num_coeffs = 3*2*slab._N\n",
    "approx_error = get_approx_error(energy_error=energy_error,alpha=alpha,num_coeffs=num_coeffs)\n",
    "encoding = getEncoding(VALID_ENCODINGS.LinearT,instance = slab,approx_error=approx_error)\n",
    "prec  =  int(np.ceil( np.log2( (np.sqrt(2.0)*np.pi*alpha) / (2*energy_error) ) ))\n",
    "qpe = QubitizedPhaseEstimation(encoding,prec=prec)\n",
    "nb_4_resources = estimate_resources(qpe.circuit,circuit_precision=1e-4)\n",
    "all_re[\"(Nb65)(Zr6)(Hf7)(Ti4)(W3)\"] =  nb_4_resources"
   ]
  },
  {
   "cell_type": "markdown",
   "id": "8c700aea",
   "metadata": {},
   "source": [
    "### Precomputed Counts"
   ]
  },
  {
   "cell_type": "code",
   "execution_count": 2,
   "id": "803668a1",
   "metadata": {},
   "outputs": [],
   "source": [
    "all_re = {\n",
    " 'Mg Dimer': {'LogicalQubits': 12278,\n",
    "  'T': 776895159377880,\n",
    "  'Clifford': 1301534004672757},\n",
    " 'Mg Monolayer': {'LogicalQubits': 44077,\n",
    "  'T': 44215691879959128,\n",
    "  'Clifford': 71233338274464525},\n",
    " 'Mg Cluster': {'LogicalQubits': 70872,\n",
    "  'T': 141585349259351488,\n",
    "  'Clifford': 222037302258694473},\n",
    " '(Mg17)(Al12) Secondary-phase Supercell': {'LogicalQubits': 223645,\n",
    "  'T': 3556340673227587256,\n",
    "  'Clifford': 5519177836017269773},\n",
    " '(Nb97)(Hf3)(Ti22)(Zr6)(O)': {'LogicalQubits': 21451, \n",
    "  'T': 3089979861377536, \n",
    "  'Clifford': 23338027652784961},\n",
    " '(Nb97)(Ta22)(Zr3)(W6)(O)': {'LogicalQubits': 21451, \n",
    "  'T': 3058849938416128, \n",
    "  'Clifford': 23041812348314433},\n",
    " '(Nb42)(Ti3)(Hf3)(Ta3)(Zr3)(O)': {'LogicalQubits': 16151, \n",
    "  'T': 2342827350565376, \n",
    "  'Clifford': 17029803026719553},\n",
    " '(Nb65)(Zr6)(Hf7)(Ti4)(W3)': {'LogicalQubits': 17597, \n",
    "  'T': 2536135238623744, \n",
    "  'Clifford': 18609010961851201}\n",
    "  }"
   ]
  },
  {
   "cell_type": "markdown",
   "id": "27413f09",
   "metadata": {},
   "source": [
    "## Estimate using only valence electrons (optimistic)"
   ]
  },
  {
   "cell_type": "markdown",
   "id": "8c4be591",
   "metadata": {},
   "source": [
    "For the valence electrons only case, we use the first quantized, plane-wave model for both the magnesium and niobium instances. Each estimate runs in a few minutes or less. The precomputed counts are provided below."
   ]
  },
  {
   "cell_type": "code",
   "execution_count": 2,
   "id": "9fb24103",
   "metadata": {},
   "outputs": [],
   "source": [
    "all_re_valence = {}"
   ]
  },
  {
   "cell_type": "markdown",
   "id": "98e8f996",
   "metadata": {},
   "source": [
    "### Magnesium Models"
   ]
  },
  {
   "cell_type": "markdown",
   "id": "c1849912",
   "metadata": {},
   "source": [
    "<b>Table 1:</b> Properties of magnesium models relevant for the first quantized block encoding with $E_{\\text{cut}}$=40 Ry.\n",
    "\n",
    "| Model | $\\eta$ | $\\lambda_{\\zeta} = \\sum_\\ell \\zeta_\\ell$ | $L$ | Cell size ($\\text{\\r{A}}$)|\n",
    "| --- | --- | --- | --- | --- |\n",
    "| Mg Dimer | 144 | 144 | 76 | 12.7 x 12.7 x 19.9 |\n",
    "| Mg Monolayer | 567 | 567 | 335 | 19.8 x 19.8 x 32.3 |\n",
    "| Mg Cluster | 1477 | 1477 | 887 | 19.8 x 19.8 x 58.9 |\n",
    "| $\\text{Mg}_{17}\\text{Al}_{12}$ 2nd phase supercell | 1830 | 1830 | 1107 | 33.0 x 31.3 x 50.3 |\n",
    "\n",
    "<a id='tab1'></a>\n",
    "Note $\\eta = \\lambda_\\zeta$ for charge neutral systems."
   ]
  },
  {
   "cell_type": "code",
   "execution_count": 3,
   "id": "87f86d96",
   "metadata": {},
   "outputs": [],
   "source": [
    "# set energy cutoff\n",
    "E_cut_off = 40\n",
    "\n",
    "# set precision parameters\n",
    "eps = 1e-3\n",
    "eps_M = eps_T = eps_R = eps/10\n",
    "eps_pha = np.sqrt(eps**2 - (eps_M+eps_R+eps_T)**2)"
   ]
  },
  {
   "cell_type": "code",
   "execution_count": 4,
   "id": "5d4688f9",
   "metadata": {},
   "outputs": [
    {
     "name": "stderr",
     "output_type": "stream",
     "text": [
      "<attrs generated getattr pyLIQTR.circuits.operators.PrepareZetaState.PrepareZetaState>:6: UserWarning: Desired precision 87 is beyond system spec 63. Using system spec instead. This will result in lower Clifford gate count.\n",
      "  result = func(self)\n"
     ]
    }
   ],
   "source": [
    "### Mg Dimer\n",
    "lengths            =  [12.7,12.7,19.9]\n",
    "mg_dimer_instance  =  getInstance('MoleculeParameters',num_electrons=144,num_atoms=76,sum_atomic_num=144,cell_volume=np.prod(lengths), E_cut_off=E_cut_off, lengths=lengths)\n",
    "mg_dimer_encoding  =  getEncoding(VALID_ENCODINGS.FirstQuantized, instance=mg_dimer_instance, eps_M=eps_M,eps_R=eps_R,eps_T=eps_T)\n",
    "mg_dimer_qpe       =  QubitizedPhaseEstimation(mg_dimer_encoding,eps=eps_pha)\n",
    "mg_dimer_resources =  estimate_resources(mg_dimer_qpe)\n",
    "all_re_valence[\"Mg Dimer\"] =  mg_dimer_resources"
   ]
  },
  {
   "cell_type": "code",
   "execution_count": 5,
   "id": "2b50a871",
   "metadata": {},
   "outputs": [
    {
     "name": "stderr",
     "output_type": "stream",
     "text": [
      "<attrs generated getattr pyLIQTR.circuits.operators.PrepareZetaState.PrepareZetaState>:6: UserWarning: Desired precision 102 is beyond system spec 63. Using system spec instead. This will result in lower Clifford gate count.\n",
      "  result = func(self)\n"
     ]
    }
   ],
   "source": [
    "### Mg Monolayer\n",
    "lengths                =  [19.8,19.8,32.3]\n",
    "mg_monolayer_instance  =  getInstance('MoleculeParameters',num_electrons=567,num_atoms=335,sum_atomic_num=567,cell_volume=np.prod(lengths), E_cut_off=E_cut_off, lengths=lengths)\n",
    "mg_monolayer_encoding  =  getEncoding(VALID_ENCODINGS.FirstQuantized, instance=mg_monolayer_instance, eps_M=eps_M,eps_R=eps_R,eps_T=eps_T)\n",
    "mg_monolayer_qpe       =  QubitizedPhaseEstimation(mg_monolayer_encoding,eps=eps_pha)\n",
    "mg_monolayer_resources =  estimate_resources(mg_monolayer_qpe)\n",
    "all_re_valence[\"Mg Monolayer\"] =  mg_monolayer_resources"
   ]
  },
  {
   "cell_type": "code",
   "execution_count": 6,
   "id": "b670b9a8",
   "metadata": {},
   "outputs": [
    {
     "name": "stderr",
     "output_type": "stream",
     "text": [
      "<attrs generated getattr pyLIQTR.circuits.operators.PrepareZetaState.PrepareZetaState>:6: UserWarning: Desired precision 108 is beyond system spec 63. Using system spec instead. This will result in lower Clifford gate count.\n",
      "  result = func(self)\n"
     ]
    }
   ],
   "source": [
    "### Mg Cluster\n",
    "lengths              =  [19.8,19.8,32.3]\n",
    "mg_cluster_instance  =  getInstance('MoleculeParameters',num_electrons=1477,num_atoms=887,sum_atomic_num=1477,cell_volume=np.prod(lengths), E_cut_off=E_cut_off, lengths=lengths)\n",
    "mg_cluster_encoding  =  getEncoding(VALID_ENCODINGS.FirstQuantized, instance=mg_cluster_instance, eps_M=eps_M,eps_R=eps_R,eps_T=eps_T)\n",
    "mg_cluster_qpe       =  QubitizedPhaseEstimation(mg_cluster_encoding,eps=eps_pha)\n",
    "mg_cluster_resources =  estimate_resources(mg_cluster_qpe)\n",
    "all_re_valence[\"Mg Cluster\"] =  mg_cluster_resources\n"
   ]
  },
  {
   "cell_type": "code",
   "execution_count": 7,
   "id": "25402259",
   "metadata": {},
   "outputs": [
    {
     "name": "stderr",
     "output_type": "stream",
     "text": [
      "<attrs generated getattr pyLIQTR.circuits.operators.PrepareZetaState.PrepareZetaState>:6: UserWarning: Desired precision 111 is beyond system spec 63. Using system spec instead. This will result in lower Clifford gate count.\n",
      "  result = func(self)\n"
     ]
    }
   ],
   "source": [
    "### (Mg17)(Al12) Secondary-phase Supercell\n",
    "lengths                =  [33.0,31.3,50.3]\n",
    "mg_supercell_instance  =  getInstance('MoleculeParameters',num_electrons=1830,num_atoms=1107,sum_atomic_num=1830,cell_volume=np.prod(lengths), E_cut_off=E_cut_off, lengths=lengths)\n",
    "mg_supercell_encoding  =  getEncoding(VALID_ENCODINGS.FirstQuantized, instance=mg_supercell_instance, eps_M=eps_M,eps_R=eps_R,eps_T=eps_T)\n",
    "mg_supercell_qpe       =  QubitizedPhaseEstimation(mg_supercell_encoding,eps=eps_pha)\n",
    "mg_supercell_resources =  estimate_resources(mg_supercell_qpe)\n",
    "all_re_valence[\"(Mg17)(Al12) Secondary-phase Supercell\"] =  mg_supercell_resources"
   ]
  },
  {
   "cell_type": "markdown",
   "id": "d9011b8d",
   "metadata": {},
   "source": [
    "### Niobium Models"
   ]
  },
  {
   "cell_type": "markdown",
   "id": "803e2691",
   "metadata": {},
   "source": [
    "<b>Table 2:</b> Properties of niobium models relevant for the first quantized block encoding with $E_{\\text{cut}}$=40 Ry.\n",
    "\n",
    "| Model | $\\eta$ | $\\lambda_{\\zeta} = \\sum_\\ell \\zeta_\\ell$ | $L$ | Cell size ($\\text{\\r{A}}$)|\n",
    "| --- | --- | --- | --- | --- |\n",
    "| $\\text{Nb}_{97}\\text{Hf}_{3}\\text{Ti}_{22}\\text{Zr}_{6}\\text{O}$ | 615 | 615 | 129 | 13.3 x 13.3 x 13.3 |\n",
    "| $\\text{Nb}_{97}\\text{Ta}_{22}\\text{Zr}_{3}\\text{W}_{6}\\text{O}$ | 649 | 649 | 129 | 13.3 x 13.3 x 13.3 |\n",
    "| $\\text{Nb}_{42}\\text{Ti}_{3}\\text{Hf}_{3}\\text{Ta}_{3}\\text{Zr}_{3}\\text{O}$ | 267 | 267 | 55 | 10.0 x 10.0 x 10.1 |\n",
    "| $\\text{Nb}_{65}\\text{Zr}_{6}\\text{Hf}_{7}\\text{Ti}_{4}\\text{W}_{3}$ | 411 | 411 | 85 | 8.6 x 9.8 x 14.0 |\n",
    "\n",
    "<a id='tab1'></a>\n",
    "Note $\\eta = \\lambda_\\zeta$ for charge neutral systems.\n"
   ]
  },
  {
   "cell_type": "code",
   "execution_count": 9,
   "id": "5eac2231",
   "metadata": {},
   "outputs": [
    {
     "name": "stderr",
     "output_type": "stream",
     "text": [
      "<attrs generated getattr pyLIQTR.circuits.operators.PrepareZetaState.PrepareZetaState>:6: UserWarning: Desired precision 102 is beyond system spec 63. Using system spec instead. This will result in lower Clifford gate count.\n",
      "  result = func(self)\n"
     ]
    }
   ],
   "source": [
    "### (Nb97)(Hf3)(Ti22)(Zr6)(O)\n",
    "lengths        =  [13.3,13.3,13.3]\n",
    "nb_1_instance  =  getInstance('MoleculeParameters',num_electrons=615,num_atoms=129,sum_atomic_num=615,cell_volume=np.prod(lengths), E_cut_off=E_cut_off, lengths=lengths)\n",
    "nb_1_encoding  =  getEncoding(VALID_ENCODINGS.FirstQuantized, instance=nb_1_instance, eps_M=eps_M,eps_R=eps_R,eps_T=eps_T)\n",
    "nb_1_qpe       =  QubitizedPhaseEstimation(nb_1_encoding,eps=eps_pha)\n",
    "nb_1_resources =  estimate_resources(nb_1_qpe)\n",
    "all_re_valence[\"(Nb97)(Hf3)(Ti22)(Zr6)(O)\"] =  nb_1_resources"
   ]
  },
  {
   "cell_type": "code",
   "execution_count": 10,
   "id": "e0a8a5cc",
   "metadata": {},
   "outputs": [
    {
     "name": "stderr",
     "output_type": "stream",
     "text": [
      "<attrs generated getattr pyLIQTR.circuits.operators.PrepareZetaState.PrepareZetaState>:6: UserWarning: Desired precision 102 is beyond system spec 63. Using system spec instead. This will result in lower Clifford gate count.\n",
      "  result = func(self)\n"
     ]
    }
   ],
   "source": [
    "### (Nb97)(Ta22)(Zr3)(W6)(O)\n",
    "lengths        =  [13.3,13.3,13.3]\n",
    "nb_2_instance  =  getInstance('MoleculeParameters',num_electrons=649,num_atoms=129,sum_atomic_num=649,cell_volume=np.prod(lengths), E_cut_off=E_cut_off, lengths=lengths)\n",
    "nb_2_encoding  =  getEncoding(VALID_ENCODINGS.FirstQuantized, instance=nb_2_instance, eps_M=eps_M,eps_R=eps_R,eps_T=eps_T)\n",
    "nb_2_qpe       =  QubitizedPhaseEstimation(nb_2_encoding,eps=eps_pha)\n",
    "nb_2_resources =  estimate_resources(nb_2_qpe)\n",
    "all_re_valence[\"(Nb97)(Ta22)(Zr3)(W6)(O)\"] =  nb_2_resources"
   ]
  },
  {
   "cell_type": "code",
   "execution_count": 11,
   "id": "a26f9a65",
   "metadata": {},
   "outputs": [
    {
     "name": "stderr",
     "output_type": "stream",
     "text": [
      "<attrs generated getattr pyLIQTR.circuits.operators.PrepareZetaState.PrepareZetaState>:6: UserWarning: Desired precision 96 is beyond system spec 63. Using system spec instead. This will result in lower Clifford gate count.\n",
      "  result = func(self)\n"
     ]
    }
   ],
   "source": [
    "### (Nb42)(Ti3)(Hf3)(Ta3)(Zr3)(O)\n",
    "lengths        =  [10.0,10.0,10.1]\n",
    "nb_3_instance  =  getInstance('MoleculeParameters',num_electrons=267,num_atoms=55,sum_atomic_num=267,cell_volume=np.prod(lengths), E_cut_off=E_cut_off, lengths=lengths)\n",
    "nb_3_encoding  =  getEncoding(VALID_ENCODINGS.FirstQuantized, instance=nb_3_instance, eps_M=eps_M,eps_R=eps_R,eps_T=eps_T)\n",
    "nb_3_qpe       =  QubitizedPhaseEstimation(nb_3_encoding,eps=eps_pha)\n",
    "nb_3_resources =  estimate_resources(nb_3_qpe)\n",
    "all_re_valence[\"(Nb42)(Ti3)(Hf3)(Ta3)(Zr3)(O)\"] =  nb_3_resources"
   ]
  },
  {
   "cell_type": "code",
   "execution_count": 12,
   "id": "b5689cae",
   "metadata": {},
   "outputs": [
    {
     "name": "stderr",
     "output_type": "stream",
     "text": [
      "<attrs generated getattr pyLIQTR.circuits.operators.PrepareZetaState.PrepareZetaState>:6: UserWarning: Desired precision 99 is beyond system spec 63. Using system spec instead. This will result in lower Clifford gate count.\n",
      "  result = func(self)\n"
     ]
    }
   ],
   "source": [
    "### (Nb65)(Zr6)(Hf7)(Ti4)(W3)\n",
    "lengths        =  [8.6,9.8,14.0]\n",
    "nb_4_instance  =  getInstance('MoleculeParameters',num_electrons=411,num_atoms=85,sum_atomic_num=411,cell_volume=np.prod(lengths), E_cut_off=E_cut_off, lengths=lengths)\n",
    "nb_4_encoding  =  getEncoding(VALID_ENCODINGS.FirstQuantized, instance=nb_4_instance, eps_M=eps_M,eps_R=eps_R,eps_T=eps_T)\n",
    "nb_4_qpe       =  QubitizedPhaseEstimation(nb_4_encoding,eps=eps_pha)\n",
    "nb_4_resources =  estimate_resources(nb_4_qpe)\n",
    "all_re_valence[\"(Nb65)(Zr6)(Hf7)(Ti4)(W3)\"] =  nb_4_resources"
   ]
  },
  {
   "cell_type": "markdown",
   "id": "0cfa0408",
   "metadata": {},
   "source": [
    "### Precomputed Counts"
   ]
  },
  {
   "cell_type": "code",
   "execution_count": 3,
   "id": "2713be3a",
   "metadata": {},
   "outputs": [],
   "source": [
    "all_re_valence = {\n",
    " 'Mg Dimer': {'LogicalQubits': 2577,\n",
    "  'T': 10449387027248,\n",
    "  'Clifford': 21295655963295},\n",
    " 'Mg Monolayer': {'LogicalQubits': 10707,\n",
    "  'T': 679957747508152,\n",
    "  'Clifford': 1183218393090909},\n",
    " 'Mg Cluster': {'LogicalQubits': 27108,\n",
    "  'T': 6832829111515288,\n",
    "  'Clifford': 11344838285029025},\n",
    " '(Mg17)(Al12) Secondary-phase Supercell': {'LogicalQubits': 39012,\n",
    "  'T': 19540211411240896,\n",
    "  'Clifford': 31773120084031149},\n",
    " '(Nb97)(Hf3)(Ti22)(Zr6)(O)': {'LogicalQubits': 9679,\n",
    "  'T': 613866790755816,\n",
    "  'Clifford': 1042968383516609},\n",
    " '(Nb97)(Ta22)(Zr3)(W6)(O)': {'LogicalQubits': 10189,\n",
    "  'T': 648948083629544,\n",
    "  'Clifford': 1129438960086977},\n",
    " '(Nb42)(Ti3)(Hf3)(Ta3)(Zr3)(O)': {'LogicalQubits': 4443,\n",
    "  'T': 71263171153248,\n",
    "  'Clifford': 131103340011807},\n",
    " '(Nb65)(Zr6)(Hf7)(Ti4)(W3)': {'LogicalQubits': 6611,\n",
    "  'T': 210614458815760,\n",
    "  'Clifford': 369790241916337}\n",
    "  }"
   ]
  },
  {
   "cell_type": "markdown",
   "id": "0176c7b5",
   "metadata": {},
   "source": [
    "## Plot"
   ]
  },
  {
   "cell_type": "code",
   "execution_count": 4,
   "id": "70499f8c",
   "metadata": {},
   "outputs": [
    {
     "data": {
      "image/png": "[encoded data removed]",
      "text/plain": [
       "<Figure size 640x480 with 1 Axes>"
      ]
     },
     "metadata": {},
     "output_type": "display_data"
    }
   ],
   "source": [
    "import matplotlib.pyplot as plt\n",
    "\n",
    "system_size = []\n",
    "computation_size = []\n",
    "for model in all_re:\n",
    "    system_size += [all_re[model]['LogicalQubits']]\n",
    "    computation_size += [all_re[model]['LogicalQubits']*all_re[model]['T']]\n",
    "\n",
    "system_size_val = []\n",
    "computation_size_val = []\n",
    "for model in all_re_valence:\n",
    "    system_size_val += [all_re_valence[model]['LogicalQubits']]\n",
    "    computation_size_val += [all_re_valence[model]['LogicalQubits']*all_re_valence[model]['T']]\n",
    "\n",
    "plot_color = [0.0,0.6,0.0]\n",
    "fig, ax = plt.subplots()\n",
    "ax.scatter(system_size, computation_size, facecolors=plot_color,label = 'Corrosion resistant materials')\n",
    "ax.scatter(system_size_val, computation_size_val, edgecolors=plot_color,facecolors='white', label = 'Corrosion resistant materials optimistic')\n",
    "ax.set_xlabel('System Size (Number of Computational Qubits)')\n",
    "ax.set_ylabel('Computation Size (Number of Operations)')\n",
    "ax.set_xscale('log')\n",
    "ax.set_yscale('log')\n",
    "plt.legend();"
   ]
  },
  {
   "cell_type": "markdown",
   "id": "10320b9d",
   "metadata": {},
   "source": [
    "## save output"
   ]
  },
  {
   "cell_type": "markdown",
   "id": "14c168b7",
   "metadata": {},
   "source": [
    "We can save the estimates to a json file formatted for easy input to the QB Plot Tool."
   ]
  },
  {
   "cell_type": "code",
   "execution_count": 4,
   "id": "0b227cf3",
   "metadata": {},
   "outputs": [],
   "source": [
    "from pyLIQTR.utils.resource_analysis import write_resource_estimation_json\n",
    "\n",
    "write_resource_estimation_json(estimates=all_re,application_id='corrosion_resistant_materials',category='industrial',plot_legend_name='Corrosion resistant materials',plot_color=plot_color,reference='')"
   ]
  },
  {
   "cell_type": "markdown",
   "id": "1840d011",
   "metadata": {},
   "source": [
    "<hr>"
   ]
  },
  {
   "cell_type": "markdown",
   "id": "e237147b",
   "metadata": {},
   "source": [
    "With the application circuit in hand, we can do further analysis using the pyLIQTR scheduling, qasm printing, and circuit decomposition capabilities. Please see the [Best Practices](https://isi-usc-edu.github.io/pyLIQTR/_build/html/best_practice.html) for guidance on how to use these tools and refer to the notebooks in [Examples/ApplicationInstances/](../) for detailed demonstrations."
   ]
  }
 ],
 "metadata": {
  "kernelspec": {
   "display_name": "pyL-new",
   "language": "python",
   "name": "python3"
  },
  "language_info": {
   "codemirror_mode": {
    "name": "ipython",
    "version": 3
   },
   "file_extension": ".py",
   "mimetype": "text/x-python",
   "name": "python",
   "nbconvert_exporter": "python",
   "pygments_lexer": "ipython3",
   "version": "3.11.5"
  }
 },
 "nbformat": 4,
 "nbformat_minor": 5
}
