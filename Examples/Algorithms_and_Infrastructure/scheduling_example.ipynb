{
 "cells": [
  {
   "cell_type": "code",
   "execution_count": 3,
   "metadata": {
    "tags": [
     "imports"
    ]
   },
   "outputs": [],
   "source": [
    "from pyLIQTR.ProblemInstances.getInstance   import *\n",
    "from pyLIQTR.BlockEncodings.getEncoding     import *\n",
    "from pyLIQTR.utils.circuit_decomposition    import circuit_decompose_multi\n",
    "from pyLIQTR.utils.resource_analysis        import estimate_resources\n",
    "from pyLIQTR.qubitization.qubitized_gates   import QubitizedWalkOperator\n",
    "from pyLIQTR.clam.lattice_definitions       import CubicLattice, SquareLattice, TriangularLattice\n",
    "from pyLIQTR.utils.printing                 import openqasm\n",
    "from pyLIQTR.scheduler.scheduler            import schedule_circuit\n",
    "from pyLIQTR.scheduler.scheduler            import decomposition_protocol\n",
    "import pyLIQTR.scheduler.sets as sets\n",
    "\n",
    "import cirq\n",
    "import qualtran as qt\n",
    "import matplotlib.pyplot as plt\n"
   ]
  },
  {
   "cell_type": "markdown",
   "metadata": {},
   "source": [
    "### Building circuit for scheduling"
   ]
  },
  {
   "cell_type": "code",
   "execution_count": 4,
   "metadata": {
    "tags": [
     "circuit_gen"
    ]
   },
   "outputs": [],
   "source": [
    "N=3\n",
    "\n",
    "J_x = J_y = -0.5;                J_z = -1.0\n",
    "h_x = 1.0;      h_y = 0.0;       h_z = 0.5\n",
    "\n",
    "model  =  getInstance( \"Heisenberg\", \n",
    "                       shape=(N,N), \n",
    "                       J=(J_x,J_y,J_z), \n",
    "                       h=(h_x,h_y,h_z), \n",
    "                       cell=SquareLattice )\n",
    "\n",
    "block_encoding    =  getEncoding(VALID_ENCODINGS.PauliLCU)(model)\n",
    "circuit = block_encoding.circuit"
   ]
  },
  {
   "cell_type": "code",
   "execution_count": 5,
   "metadata": {
    "tags": [
     "estimate_resources"
    ]
   },
   "outputs": [
    {
     "name": "stderr",
     "output_type": "stream",
     "text": [
      "c:\\Users\\RY32524\\AppData\\Local\\anaconda3\\envs\\schedule\\Lib\\site-packages\\cotengra\\hyperoptimizers\\hyper.py:33: UserWarning: Couldn't import `kahypar` - skipping from default hyper optimizer and using basic `labels` method instead.\n",
      "  warnings.warn(\n"
     ]
    },
    {
     "data": {
      "text/plain": [
       "{'LogicalQubits': 15, 'T': 248, 'Clifford': 1194, 'Rotations': 128}"
      ]
     },
     "execution_count": 5,
     "metadata": {},
     "output_type": "execute_result"
    }
   ],
   "source": [
    "estimate_resources(circuit, circuit_precision=1e-3, profile=True)"
   ]
  },
  {
   "cell_type": "markdown",
   "metadata": {},
   "source": [
    "---\n",
    "#### LIQTR Like 👍 : Circuit Scheduling\n",
    "---\n",
    "\n",
    "Circuits can be 'scheduled' using the `pyLIQTR.scheduler.scheduler.schedule_circuit` function. This will provide circuit runtime, realistic qubit counts, T-depth, and more!\n",
    "\n",
    "(NOTE: If any operator's decomposition method returns `None` or `NotImplemented`, the scheduler will refer to the operator's `t_complexity` method for gate counts and execution time, but will not be able to fully parallelize the operator. If the operator does not have a decomposition method or a `t_complexity` method defined, the operator will be skipped each time it occurs in the circuit. In this event, scheduling results will not be accurate to the true circuit.)\n",
    "\n",
    "`schedule_circuit` takes a number of optional arguments depending on desired outputs. They are:\n",
    "* `architecture_config`: default `None`. A dictionary specifying timing for various gate types and restrictions on how many T gates can operate simultaneously. See 'Setting Gate Times and T-Gate Restriction' below for more info.\n",
    "\n",
    "* `full_profile`: default `False`. If set to `True`, function output will include individual gate counts, T-widths, and parallelism distribution data. (NOTE: T-widths and parallelism data will only be available if `decomp_level` is set to `'Full'`.)\n",
    "\n",
    "* `decomp_level`: default `0`. Levels of decomposition implemented before scheduling. If set to `0`, each operator will be decomposed to one/two-qubit gates only on its first occurance and cached for each future occurance. If set to `'Full'`, entire circuit will be decomposed to one/two-qubit gates before scheduling. \n",
    "\n",
    "    * NOTE: T-depth, qubit counts, and execution time will differ at different decomposition levels. In general, lower decomposition levels will trade circuit parallelism and low execution time for less qubit usage, whereas higher levels or full decomposition will maximize parallelism and decrease execution time while using more qubits. \n",
    "\n",
    "* `context`: default `None`. Defines qubit management context. We recommend not changing default settings unless required.\n",
    "\n",
    "* `custom_gateset`: default `None`. A list specifying which gates to include in analysis. See 'Gateset Formatting' below for more info.\n",
    "\n",
    "* `rotation_gate_precision`: default `1e-3`. Desired precision for circuit decomposition, namely breaking rotations into T-Gates.\n",
    "\n",
    "* `decomposition_protocol`: default `decomposition_protocol.recursive`. Method of advanced decomposition to be used for complex operations, either `decomposition_protocol.recursive` or `decomposition_protocol.hierarchical`. See `advanced_decomposition_examples.ipynb` for further details.\n",
    "\n",
    "* `qasm_output`: default `False`. If set to `True`, in addition to scheduling results, scheduler will print a qasm output of the scheduled circuit, including lines specifying start times of operations preceded by `#`.\n",
    "\n",
    "* `display_op_cache`: default `False`. If set to `True`, in addition to scheduling results, scheduler will print each operator in its top-level cache along with that operator's stored results and how many times it occurred.\n",
    "\n",
    "    * NOTE: Which operators appear in the cache will vary with different decomposition levels."
   ]
  },
  {
   "cell_type": "markdown",
   "metadata": {},
   "source": [
    "If `decomp_level == 'Full'`, the full results profile will include `Active Qubit Distribution` and `T-widths`. The first catologues how many qubits are active at each time-step in the scheduled circuit, while the second catologues the number of T-gates in each time-step. These results can be plotted as below for parallelism analysis:"
   ]
  },
  {
   "cell_type": "code",
   "execution_count": 6,
   "metadata": {
    "tags": [
     "schedule_circuit"
    ]
   },
   "outputs": [
    {
     "name": "stdout",
     "output_type": "stream",
     "text": [
      "Decomposition levels to basic gates: 5.\n",
      "Total time for execution : 1351\n",
      "Circuit T-depth : 124\n",
      "Number of qubits used : 20\n",
      "Gate profile : {'T': 248, 'H': 186, 'S': 104, 'CX': 666, 'CZ': 86, 'Pauli (X, Y, Z)': 354, 'Rotation': 126, 'Toffoli': 0}\n",
      "Active qubit distribution : {15: 1, 5: 95, 6: 16, 1: 398, 3: 152, 4: 167, 2: 261, 9: 1, 7: 1}\n",
      "T-widths : {0: 969, 5: 1, 1: 61, 2: 4, 3: 58}\n"
     ]
    }
   ],
   "source": [
    "res = schedule_circuit(circuit, full_profile=True, decomp_level='Full')\n",
    "for r in res:\n",
    "    print(f\"{r} : {res[r]}\")"
   ]
  },
  {
   "cell_type": "code",
   "execution_count": 7,
   "metadata": {},
   "outputs": [
    {
     "data": {
      "image/png": "[encoded data removed]",
      "text/plain": [
       "<Figure size 640x480 with 1 Axes>"
      ]
     },
     "metadata": {},
     "output_type": "display_data"
    }
   ],
   "source": [
    "import matplotlib.pyplot as plt\n",
    "aq = []\n",
    "vals = []\n",
    "for active_qubits in res['Active qubit distribution']:\n",
    "        val = res['Active qubit distribution'][active_qubits]\n",
    "        aq.append(active_qubits)\n",
    "        vals.append(val)\n",
    "\n",
    "\n",
    "fig, ax = plt.subplots()\n",
    "ax.bar(aq, vals)\n",
    "ax.set_ylabel(\"Number of Occurances\")\n",
    "ax.set_xlabel(\"Number of Active Qubits\")\n",
    "ax.set_yscale('log')\n"
   ]
  },
  {
   "cell_type": "code",
   "execution_count": 8,
   "metadata": {},
   "outputs": [
    {
     "data": {
      "image/png": "[encoded data removed]",
      "text/plain": [
       "<Figure size 640x480 with 1 Axes>"
      ]
     },
     "metadata": {},
     "output_type": "display_data"
    }
   ],
   "source": [
    "import matplotlib.pyplot as plt\n",
    "tw = []\n",
    "vals = []\n",
    "for width in res['T-widths']:\n",
    "        val = res['T-widths'][width]\n",
    "        tw.append(width)\n",
    "        vals.append(val)\n",
    "\n",
    "\n",
    "fig, ax = plt.subplots()\n",
    "ax.bar(tw, vals)\n",
    "ax.set_ylabel(\"Number of Occurances\")\n",
    "ax.set_xlabel(\"T-width\")\n",
    "ax.set_yscale('log')"
   ]
  },
  {
   "cell_type": "markdown",
   "metadata": {},
   "source": [
    "If `decomp_level != 'Full'`, these results will not be included (for now). However, a full gate profile will still be returned. You can also choose to print all cached operators, their cached results, and the number of times they each occurred by setting `return_op_cache = True`. Cache will vary with decomposition level."
   ]
  },
  {
   "cell_type": "code",
   "execution_count": 9,
   "metadata": {},
   "outputs": [
    {
     "name": "stdout",
     "output_type": "stream",
     "text": [
      "PauliStringLCU occurred 1 times and had the following cached results: Execution time: 2268, T-depth: 248, Gates: {'T': 248, 'H': 186, 'S': 104, 'CX': 666, 'CZ': 86, 'Pauli (X, Y, Z)': 354, 'Rotation': 126}, Qubits: 20.\n",
      "prepare_pauli_lcu occurred 1 times and had the following cached results: Execution time: 172, T-depth: 0, Gates: {'T': 0, 'H': 0, 'S': 0, 'CX': 62, 'CZ': 0, 'Pauli (X, Y, Z)': 0, 'Rotation': 63}, Qubits: 6.\n",
      "<pyLIQTR.circuits.operators.prepare_oracle_pauli_lcu.QSP_Prepare object at 0x0000017A4C8D2BD0> occurred 1 times and had the following cached results: Execution time: 172, T-depth: 0, Gates: {'T': 0, 'H': 0, 'S': 0, 'CX': 62, 'CZ': 0, 'Pauli (X, Y, Z)': 0, 'Rotation': 63}, Qubits: 6.\n",
      "SelectPauliLCU occurred 1 times and had the following cached results: Execution time: 1920, T-depth: 248, Gates: {'T': 248, 'H': 186, 'S': 104, 'CX': 542, 'CZ': 86, 'Pauli (X, Y, Z)': 354, 'Rotation': 0}, Qubits: 20.\n",
      "And occurred 62 times and had the following cached results: Execution time: 17, T-depth: 4, Gates: {'T': 4, 'H': 2, 'S': 1, 'CX': 6, 'CZ': 0, 'Pauli (X, Y, Z)': 2, 'Rotation': 0}, Qubits: 3.\n",
      "C+ occurred 10 times and had the following cached results: Execution time: 0, T-depth: 0, Gates: {'T': 0, 'H': 0, 'S': 0, 'CX': 0, 'CZ': 0, 'Pauli (X, Y, Z)': 0, 'Rotation': 0}, Qubits: 1.\n",
      "And† occurred 62 times and had the following cached results: Execution time: 4, T-depth: 0, Gates: {'T': 0, 'H': 1, 'S': 0, 'CX': 0, 'CZ': 1, 'Pauli (X, Y, Z)': 0, 'Rotation': 0}, Qubits: 3.\n",
      "C+X occurred 9 times and had the following cached results: Execution time: 9, T-depth: 0, Gates: {'T': 0, 'H': 0, 'S': 1, 'CX': 2, 'CZ': 0, 'Pauli (X, Y, Z)': 5, 'Rotation': 0}, Qubits: 2.\n",
      "C+Z occurred 9 times and had the following cached results: Execution time: 7, T-depth: 0, Gates: {'T': 0, 'H': 0, 'S': 1, 'CX': 2, 'CZ': 0, 'Pauli (X, Y, Z)': 3, 'Rotation': 0}, Qubits: 2.\n",
      "C-XX occurred 12 times and had the following cached results: Execution time: 5, T-depth: 0, Gates: {'T': 0, 'H': 0, 'S': 0, 'CX': 2, 'CZ': 0, 'Pauli (X, Y, Z)': 1, 'Rotation': 0}, Qubits: 3.\n",
      "C-YY occurred 12 times and had the following cached results: Execution time: 19, T-depth: 0, Gates: {'T': 0, 'H': 0, 'S': 2, 'CX': 4, 'CZ': 0, 'Pauli (X, Y, Z)': 11, 'Rotation': 0}, Qubits: 3.\n",
      "CY occurred 2 times and had the following cached results: Execution time: 9, T-depth: 0, Gates: {'T': 0, 'H': 0, 'S': 1, 'CX': 2, 'CZ': 0, 'Pauli (X, Y, Z)': 5, 'Rotation': 0}, Qubits: 2.\n",
      "C-ZZ occurred 12 times and had the following cached results: Execution time: 5, T-depth: 0, Gates: {'T': 0, 'H': 0, 'S': 0, 'CX': 0, 'CZ': 2, 'Pauli (X, Y, Z)': 1, 'Rotation': 0}, Qubits: 3.\n",
      "Adjoint(subbloq=prepare_pauli_lcu) occurred 1 times and had the following cached results: Execution time: 176, T-depth: 0, Gates: {'T': 0, 'H': 0, 'S': 0, 'CX': 62, 'CZ': 0, 'Pauli (X, Y, Z)': 0, 'Rotation': 63}, Qubits: 6.\n",
      "<pyLIQTR.circuits.operators.prepare_oracle_pauli_lcu.QSP_Prepare object at 0x0000017A4CCBB8D0>† occurred 1 times and had the following cached results: Execution time: 176, T-depth: 0, Gates: {'T': 0, 'H': 0, 'S': 0, 'CX': 62, 'CZ': 0, 'Pauli (X, Y, Z)': 0, 'Rotation': 63}, Qubits: 6.\n",
      "Total time for execution: 2268\n",
      "Circuit T-depth: 248\n",
      "Number of qubits used: 20\n",
      "Gate profile: {'T': 248, 'H': 186, 'S': 104, 'CX': 666, 'CZ': 86, 'Pauli (X, Y, Z)': 354, 'Rotation': 126}\n"
     ]
    }
   ],
   "source": [
    "res = schedule_circuit(circuit, full_profile=True, decomp_level=0, display_op_cache=True)\n",
    "for r in res:\n",
    "    print(f'{r}: {res[r]}')"
   ]
  },
  {
   "cell_type": "markdown",
   "metadata": {},
   "source": [
    "#### Setting Gate Times and T-Gate Restriction:\n",
    "To specify how long a particular gate takes to operate or how many T-Gates can operate simultaneously, the user can build a configuration dictionary to be passed to the `architecture_config` argument.\n",
    "\n",
    "This dictionary must be formatted as follows:\n",
    "    \n",
    "`{'Execution Times': {('Gate 1',): Time X, ('Gate 2', 'Gate 3'): Time Y}, 'Max T': Z # of simultaneous T-gates allowed}`"
   ]
  },
  {
   "cell_type": "code",
   "execution_count": 10,
   "metadata": {
    "tags": [
     "execution_timings"
    ]
   },
   "outputs": [
    {
     "name": "stdout",
     "output_type": "stream",
     "text": [
      "Total time for execution : 1748\n",
      "Circuit T-depth : 180\n",
      "Number of qubits used : 20\n",
      "Gate profile : {'T': 248, 'H': 186, 'S': 104, 'CX': 666, 'CZ': 86, 'Pauli (X, Y, Z)': 354, 'Rotation': 126}\n"
     ]
    }
   ],
   "source": [
    "resources = {'Execution Times': {\n",
    "    ('T',): 5,\n",
    "    ('CX',): 10,\n",
    "    ('Rx', 'Ry'): 3}, \n",
    "'Max T': 1}\n",
    "\n",
    "res = schedule_circuit(circuit, architecture_config=resources, full_profile=True, decomp_level=3)\n",
    "for r in res:\n",
    "    print(f\"{r} : {res[r]}\")"
   ]
  },
  {
   "cell_type": "markdown",
   "metadata": {},
   "source": [
    "#### Gateset Formatting:\n",
    "\n",
    "Custom gatesets can be used to decompose to, schedule, and count specific types of gates.\n",
    "\n",
    "These sets MUST be formatted as follows:\n",
    "\n",
    "`['first two characters of gate 1', 'first two characters of gate 2', ... 'Name of gateset']`\n",
    "\n",
    "*Note that the name of the gateset must be the FINAL list entry.\n",
    "\n",
    "Several of these sets can be compiled into a single list `[[], []]` to track multiple types of gatesets.\n",
    "\n",
    "If a given gateset is found to be incomplete (i.e., a gate can be neither further decomposed nor classified into a given gateset), a `TypeError` will be raised and will inform the user which gate caused the error.\n",
    "\n",
    "Alternatively, custom gatesets can be compiled from a list of pre-written sets, found in `pyLIQTR.scheduler.sets`. These sets, which can be directly imported and used, include:\n",
    "* H\n",
    "* S\n",
    "* CX\n",
    "* CZ\n",
    "* Pauli (X, Y, Z)\n",
    "* Clifford (includes all of the above gate types, but will return a total Clifford count)\n",
    "* T\n",
    "* Rotation\n",
    "* Miscellaneous (this set should be included in ALL custom gatesets; it handles measurement and reset gates.)\n",
    "\n",
    "Gates will be counted at the highest level specified OR in the order in which sets are listed. For example, if a user's custom gateset was:\n",
    "\n",
    "* `mySet = [sets.T, sets.CLIFFORD, sets.MISC, ['An', 'And']]`, then `T` and `Clifford` gate counts would only include those gates whose origins were NOT an `And` gate.\n",
    "* `mySet = [sets.CX, sets.CLIFFORD, sets.T, sets.MISC]`, then `Clifford` gate counts would include all types of Clifford gates EXCEPT `CX`, which would be counted separately.\n",
    "\n",
    "Examples of this behavior are included below."
   ]
  },
  {
   "cell_type": "code",
   "execution_count": 11,
   "metadata": {
    "tags": [
     "t_cliff_and_gateset"
    ]
   },
   "outputs": [
    {
     "name": "stdout",
     "output_type": "stream",
     "text": [
      "Total time for execution: 13071\n",
      "Circuit T-depth: 119\n",
      "Number of qubits used: 20\n",
      "Gate profile: {'T': 12978, 'Clifford': 26672, 'And': 124, 'Miscellaneous': 0}\n"
     ]
    }
   ],
   "source": [
    "mygateset = [sets.T, sets.CLIFFORD, ['An', 'And'], sets.MISC]\n",
    "res = schedule_circuit(circuit, full_profile=True, decomp_level='Full', custom_gateset=mygateset, decomposition_protocol=decomposition_protocol.recursive)\n",
    "for r in res:\n",
    "    print(f'{r}: {res[r]}')"
   ]
  },
  {
   "cell_type": "code",
   "execution_count": 12,
   "metadata": {
    "tags": [
     "t_cliff_gateset"
    ]
   },
   "outputs": [
    {
     "name": "stdout",
     "output_type": "stream",
     "text": [
      "Total time for execution: 13939\n",
      "Circuit T-depth: 305\n",
      "Number of qubits used: 20\n",
      "Gate profile: {'T': 13226, 'Clifford': 27478, 'Miscellaneous': 124}\n"
     ]
    }
   ],
   "source": [
    "mygateset = [sets.T, sets.CLIFFORD, sets.MISC]\n",
    "res = schedule_circuit(circuit, full_profile=True, decomp_level=0, custom_gateset=mygateset, decomposition_protocol=decomposition_protocol.recursive)\n",
    "for r in res:\n",
    "    print(f'{r}: {res[r]}')"
   ]
  },
  {
   "cell_type": "code",
   "execution_count": 13,
   "metadata": {
    "tags": [
     "cx_t_cliff_gateset"
    ]
   },
   "outputs": [
    {
     "name": "stdout",
     "output_type": "stream",
     "text": [
      "Total time for execution: 13939\n",
      "Circuit T-depth: 305\n",
      "Number of qubits used: 20\n",
      "Gate profile: {'CX': 666, 'Clifford': 26812, 'T': 13226, 'Miscellaneous': 124}\n"
     ]
    }
   ],
   "source": [
    "mygateset = [sets.CX, sets.CLIFFORD, sets.T, sets.MISC]\n",
    "res = schedule_circuit(circuit, full_profile=True, decomp_level=0, custom_gateset=mygateset, decomposition_protocol=decomposition_protocol.recursive)\n",
    "for r in res:\n",
    "    print(f'{r}: {res[r]}')"
   ]
  },
  {
   "cell_type": "markdown",
   "metadata": {},
   "source": [
    "### QASM input/output:\n",
    "\n",
    "In addition to a `cirq.Circuit`, you can input a qasm string (or list of qasm strings) to the `circuit` argument of `schedule_circuit`. You can also receive the scheduled circuit as a qasm output. \n",
    "\n",
    "* NOTE: a number of features will not be available when using qasm input, including the ability to specify `custom_gateset` or any decomposition features. You CAN still use the `architecture_config` argument to specify gate timings and T-gate restrictions as above. "
   ]
  },
  {
   "cell_type": "code",
   "execution_count": 14,
   "metadata": {},
   "outputs": [
    {
     "name": "stdout",
     "output_type": "stream",
     "text": [
      "#Operations finishing at 0: \n",
      "#Operations finishing at 1: \n",
      "h q[22]\n",
      "h q[25]\n",
      "h q[7]\n",
      "h q[1]\n",
      "h q[0]\n",
      "#Operations finishing at 2: \n",
      "t q[7]\n",
      "t q[1]\n",
      "t q[0]\n",
      "#Operations finishing at 4: \n",
      "cx q[19], q[7]\n",
      "cx q[23], q[1]\n",
      "#Operations finishing at 6: \n",
      "cx q[23], q[1]\n",
      "cx q[7], q[19]\n",
      "#Operations finishing at 7: \n",
      "tdg q[19]\n",
      "#Operations finishing at 8: \n",
      "cx q[7], q[18]\n",
      "#Operations finishing at 9: \n",
      "tdg q[18]\n",
      "t q[7]\n",
      "#Operations finishing at 11: \n",
      "cx q[7], q[19]\n",
      "#Operations finishing at 13: \n",
      "cx q[7], q[18]\n",
      "#Operations finishing at 14: \n",
      "h q[7]\n",
      "#Operations finishing at 15: \n",
      "cx q[1], q[23]\n",
      "s q[7]\n",
      "#Operations finishing at 16: \n",
      "tdg q[7]\n",
      "#Operations finishing at 17: \n",
      "cx q[1], q[23]\n",
      "tdg q[7]\n",
      "#Operations finishing at 19: \n",
      "cx q[1], q[7]\n",
      "#Operations finishing at 20: \n",
      "t q[1]\n",
      "#Operations finishing at 22: \n",
      "cx q[1], q[23]\n",
      "#Operations finishing at 24: \n",
      "cx q[1], q[7]\n",
      "#Operations finishing at 25: \n",
      "h q[1]\n",
      "#Operations finishing at 26: \n",
      "s q[1]\n",
      "Total time for execution: 26\n",
      "Circuit T-depth: 6\n",
      "Number of qubits used: 8\n",
      "Gate profile: {'T': 9, 'H': 7, 'S': 2, 'CX': 12, 'CZ': 0, 'Pauli (X, Y, Z)': 0, 'Rotation': 0, 'Other': 0, 'CY': 0, 'CS': 0}\n",
      "Active qubit distribution: {5: 1, 3: 3, 4: 2, 1: 6, 2: 7}\n",
      "T-widths: {0: 14, 3: 1, 1: 4, 2: 1}\n"
     ]
    }
   ],
   "source": [
    "circuit = ['h q[22]','h q[25]','h q[7]','t q[7]','cx q[18], q[7]','cx q[19], q[7]','cx q[7], q[18]','cx q[7], q[19]','tdg q[18]','tdg q[19]','t q[7]','cx q[7], q[18]', 'cx q[7], q[19]', 'h q[7]','s q[7]','h q[1]','t q[1]','cx q[7], q[1]','cx q[23], q[1]','cx q[1], q[7]', 'cx q[1], q[23]','tdg q[7]','tdg q[23]','t q[1]','cx q[1], q[7]','cx q[1], q[23]','h q[1]','s q[1]','h q[0]','t q[0]']\n",
    "\n",
    "res = schedule_circuit(circuit, full_profile=True, qasm_output=True)\n",
    "for r in res:\n",
    "    print(f'{r}: {res[r]}')"
   ]
  },
  {
   "cell_type": "code",
   "execution_count": null,
   "metadata": {},
   "outputs": [],
   "source": []
  }
 ],
 "metadata": {
  "kernelspec": {
   "display_name": "Python 3",
   "language": "python",
   "name": "python3"
  },
  "language_info": {
   "codemirror_mode": {
    "name": "ipython",
    "version": 3
   },
   "file_extension": ".py",
   "mimetype": "text/x-python",
   "name": "python",
   "nbconvert_exporter": "python",
   "pygments_lexer": "ipython3",
   "version": "3.11.9"
  }
 },
 "nbformat": 4,
 "nbformat_minor": 2
}
