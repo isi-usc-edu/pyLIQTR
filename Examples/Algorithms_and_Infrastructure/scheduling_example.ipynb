{
 "cells": [
  {
   "cell_type": "code",
   "execution_count": 1,
   "metadata": {
    "tags": [
     "imports"
    ]
   },
   "outputs": [
    {
     "data": {
      "application/javascript": "// Copyright (c) Microsoft Corporation.\n// Licensed under the MIT License.\n\n// This file provides CodeMirror syntax highlighting for Q# magic cells\n// in classic Jupyter Notebooks. It does nothing in other (Jupyter Notebook 7,\n// VS Code, Azure Notebooks, etc.) environments.\n\n// Detect the prerequisites and do nothing if they don't exist.\nif (window.require && window.CodeMirror && window.Jupyter) {\n  // The simple mode plugin for CodeMirror is not loaded by default, so require it.\n  window.require([\"codemirror/addon/mode/simple\"], function defineMode() {\n    let rules = [\n      {\n        token: \"comment\",\n        regex: /(\\/\\/).*/,\n        beginWord: false,\n      },\n      {\n        token: \"string\",\n        regex: String.raw`^\\\"(?:[^\\\"\\\\]|\\\\[\\s\\S])*(?:\\\"|$)`,\n        beginWord: false,\n      },\n      {\n        token: \"keyword\",\n        regex: String.raw`(namespace|open|as|operation|function|body|adjoint|newtype|controlled|internal)\\b`,\n        beginWord: true,\n      },\n      {\n        token: \"keyword\",\n        regex: String.raw`(if|elif|else|repeat|until|fixup|for|in|return|fail|within|apply)\\b`,\n        beginWord: true,\n      },\n      {\n        token: \"keyword\",\n        regex: String.raw`(Adjoint|Controlled|Adj|Ctl|is|self|auto|distribute|invert|intrinsic)\\b`,\n        beginWord: true,\n      },\n      {\n        token: \"keyword\",\n        regex: String.raw`(let|set|use|borrow|mutable)\\b`,\n        beginWord: true,\n      },\n      {\n        token: \"operatorKeyword\",\n        regex: String.raw`(not|and|or)\\b|(w/)`,\n        beginWord: true,\n      },\n      {\n        token: \"operatorKeyword\",\n        regex: String.raw`(=)|(!)|(<)|(>)|(\\+)|(-)|(\\*)|(/)|(\\^)|(%)|(\\|)|(&&&)|(~~~)|(\\.\\.\\.)|(\\.\\.)|(\\?)`,\n        beginWord: false,\n      },\n      {\n        token: \"meta\",\n        regex: String.raw`(Int|BigInt|Double|Bool|Qubit|Pauli|Result|Range|String|Unit)\\b`,\n        beginWord: true,\n      },\n      {\n        token: \"atom\",\n        regex: String.raw`(true|false|Pauli(I|X|Y|Z)|One|Zero)\\b`,\n        beginWord: true,\n      },\n    ];\n    let simpleRules = [];\n    for (let rule of rules) {\n      simpleRules.push({\n        token: rule.token,\n        regex: new RegExp(rule.regex, \"g\"),\n        sol: rule.beginWord,\n      });\n      if (rule.beginWord) {\n        // Need an additional rule due to the fact that CodeMirror simple mode doesn't work with ^ token\n        simpleRules.push({\n          token: rule.token,\n          regex: new RegExp(String.raw`\\W` + rule.regex, \"g\"),\n          sol: false,\n        });\n      }\n    }\n\n    // Register the mode defined above with CodeMirror\n    window.CodeMirror.defineSimpleMode(\"qsharp\", { start: simpleRules });\n    window.CodeMirror.defineMIME(\"text/x-qsharp\", \"qsharp\");\n\n    // Tell Jupyter to associate %%qsharp magic cells with the qsharp mode\n    window.Jupyter.CodeCell.options_default.highlight_modes[\"qsharp\"] = {\n      reg: [/^%%qsharp/],\n    };\n\n    // Force re-highlighting of all cells the first time this code runs\n    for (const cell of window.Jupyter.notebook.get_cells()) {\n      cell.auto_highlight();\n    }\n  });\n}\n",
      "text/plain": []
     },
     "metadata": {},
     "output_type": "display_data"
    }
   ],
   "source": [
    "from pyLIQTR.ProblemInstances.getInstance   import *\n",
    "from pyLIQTR.BlockEncodings.getEncoding     import *\n",
    "from pyLIQTR.utils.circuit_decomposition    import circuit_decompose_multi\n",
    "from pyLIQTR.utils.resource_analysis        import estimate_resources\n",
    "from pyLIQTR.qubitization.qubitized_gates   import QubitizedWalkOperator\n",
    "from pyLIQTR.clam.lattice_definitions       import CubicLattice, SquareLattice, TriangularLattice\n",
    "from pyLIQTR.utils.printing                 import openqasm\n",
    "from pyLIQTR.scheduler.scheduler            import schedule_circuit\n",
    "from pyLIQTR.scheduler.scheduler            import decomposition_protocol \n",
    "from pyLIQTR.scheduler.scheduler_utils      import plot_results\n",
    "\n",
    "import cirq\n",
    "import qualtran as qt\n",
    "import matplotlib.pyplot as plt\n",
    "from pyLIQTR.scheduler.scheduler_utils import architecture, state_factory\n",
    "import pyLIQTR.scheduler.sets as sets\n"
   ]
  },
  {
   "cell_type": "markdown",
   "metadata": {},
   "source": [
    "### Building circuit for scheduling"
   ]
  },
  {
   "cell_type": "code",
   "execution_count": 2,
   "metadata": {
    "tags": [
     "circuit_gen"
    ]
   },
   "outputs": [],
   "source": [
    "\n",
    "N=2\n",
    "\n",
    "J_x = J_y = -0.5;                J_z = -1.0\n",
    "h_x = 1.0;      h_y = 0.0;       h_z = 0.5\n",
    "\n",
    "model  =  getInstance( \"Heisenberg\", \n",
    "                       shape=(N,N), \n",
    "                       J=(J_x,J_y,J_z), \n",
    "                       h=(h_x,h_y,h_z), \n",
    "                       cell=SquareLattice )\n",
    "\n",
    "block_encoding    =  getEncoding(VALID_ENCODINGS.PauliLCU)(model)\n",
    "circuit = block_encoding.circuit\n"
   ]
  },
  {
   "cell_type": "code",
   "execution_count": 3,
   "metadata": {
    "tags": [
     "estimate_resources"
    ]
   },
   "outputs": [
    {
     "name": "stdout",
     "output_type": "stream",
     "text": [
      "{'LogicalQubits': 9, 'T': 3320, 'Clifford': 6971}\n"
     ]
    }
   ],
   "source": [
    "resources = estimate_resources(circuit, circuit_precision=1e-3)\n",
    "print(resources)"
   ]
  },
  {
   "cell_type": "markdown",
   "metadata": {},
   "source": [
    "---\n",
    "#### LIQTR Like 👍 : Circuit Scheduling\n",
    "---\n",
    "\n",
    "Circuits can be 'scheduled' using the `pyLIQTR.scheduler.scheduler.schedule_circuit` function. This will provide circuit runtime, realistic qubit counts, T-depth, and more!\n",
    "\n",
    "(NOTE: If any operator's decomposition method returns `None` or `NotImplemented`, the scheduler will refer to the operator's `t_complexity` method for gate counts and execution time, but will not be able to fully parallelize the operator. If the operator does not have a decomposition method or a `t_complexity` method defined, the operator will be skipped each time it occurs in the circuit. In this event, scheduling results will not be accurate to the true circuit.)\n",
    "\n",
    "`schedule_circuit` takes a number of optional arguments depending on desired outputs. They are:\n",
    "* `architecture_config`: default `None`. An `architecture` class object specifying gate times and state factory parameters. See 'Setting Gate Times and Magic State Factories' below for details.\n",
    "\n",
    "* `full_profile`: default `False`. If set to `True`, function output will include individual gate counts, T-widths, and parallelism distribution data. (NOTE: T-widths and parallelism data will only be available if `decomp_level` is set to `'Full'`.)\n",
    "\n",
    "* `decomp_level`: default `0`. Levels of decomposition implemented before scheduling. If set to `0`, each operator will be decomposed to one/two-qubit gates only on its first occurance and cached for each future occurance. If set to `'Full'`, entire circuit will be decomposed to one/two-qubit gates before scheduling. \n",
    "\n",
    "    * NOTE: T-depth, qubit counts, and execution time will differ at different decomposition levels. In general, lower decomposition levels will trade circuit parallelism and low execution time for less qubit usage, whereas higher levels or full decomposition will maximize parallelism and decrease execution time while using more qubits. \n",
    "\n",
    "* `context`: default `None`. Defines qubit management context. We recommend not changing default settings unless required.\n",
    "\n",
    "* `rotation_gate_precision`: default `5e-6`. Desired precision for circuit decomposition, namely breaking rotations into T-Gates.\n",
    "\n",
    "* `decomposition_protocol`: default `decomposition_protocol.recursive`. Method of advanced decomposition to be used for complex operations, either `decomposition_protocol.recursive` or `decomposition_protocol.hierarchical`. See `advanced_decomposition_examples.ipynb` for further details.\n",
    "\n",
    "* `qasm_output`: default `False`. If set to `True`, in addition to scheduling results, scheduler will print a qasm output of the scheduled circuit, including lines specifying start times of operations preceded by `#`.\n",
    "\n",
    "* `display_op_cache`: default `False`. If set to `True`, in addition to scheduling results, scheduler will print each operator in its top-level cache along with that operator's stored results and how many times it occurred.\n",
    "\n",
    "    * NOTE: Which operators appear in the cache will vary with different decomposition levels.\n",
    "\n",
    "* `instance_name`: default `None`. If set (`str`), results dictionary will include an `Instance name` key. If `instance_name == None` while `json_output_filename != None`, `json_output_filename` will be used as the instance name for labelling purposes.\n",
    "\n",
    "* `json_output_filename`: default `None`. If set (`str`), results dictionary will output to a JSON file named according to the input. Example output is available in this folder as `3x3_heisenberg_sched_output.json`."
   ]
  },
  {
   "cell_type": "markdown",
   "metadata": {},
   "source": [
    "If `decomp_level == 'Full'`, the full results profile will include `Active Qubit Distribution`, `T-widths`, `T-proportion`, and `Clifford/T ratios`:\n",
    "* `Active Qubit Distribution`: how many qubits are active during an individual time-step, organized by number of occurances.\n",
    "\n",
    "* `T-widths`: number of T-gates in an individual time-step, organized by number of occurances.\n",
    "\n",
    "* `T-proportion`: proportion of T-gates to other gates in an individual time-step, organized by number of occurances.\n",
    "\n",
    "* `Clifford/T ratio`: the number of Clifford gates followed by number of T-gates in each time-step, organized chronologically.\n",
    "\n",
    "These results can be plotted as below for parallelism analysis."
   ]
  },
  {
   "cell_type": "markdown",
   "metadata": {},
   "source": [
    "Developer's Note: Unless your circuit is large to the point of not being decomposable in a reasonable amount of time, we recommend `decomp_level='Full'` for the most accurate results."
   ]
  },
  {
   "cell_type": "code",
   "execution_count": 4,
   "metadata": {
    "tags": [
     "schedule_circuit"
    ]
   },
   "outputs": [
    {
     "name": "stdout",
     "output_type": "stream",
     "text": [
      "Total time for execution : 596500\n",
      "Circuit T-depth : 2732\n",
      "Number of qubits used : 13\n",
      "Gate profile : {'T': 2760, 'H': 5418, 'S': 46, 'CX': 310, 'Toffoli': 0, 'CZ': 38, 'Pauli (X, Y, Z)': 146, 'Measurement/Reset': 60}\n",
      "Active qubit distribution : {8: 2, 1: 167, 3: 88, 2: 175, 4: 47, 5: 33, 6: 7, 7: 2}\n",
      "T-widths : {0: 382, 1: 117, 3: 3, 2: 19, 4: 1}\n",
      "T-proportion : {0: 382, 1.0: 64, 0.5: 39, 0.33: 17, 0.67: 11, 0.75: 2, 0.29: 1, 0.25: 5, 0.2: 1}\n",
      "Clifford/T ratios : {0: (0, 0), 1: (8, 0), 2: (0, 1), 3: (0, 3), 4: (0, 1), 5: (0, 1), 6: (1, 1), 7: (1, 0), 8: (0, 1), 9: (1, 0), 10: (1, 0), 11: (1, 0), 12: (0, 1), 13: (1, 0), 14: (1, 0), 15: (0, 1), 16: (1, 0), 17: (1, 0), 18: (1, 0), 19: (1, 0), 20: (1, 1), 21: (0, 1), 22: (0, 1), 23: (1, 0), 24: (0, 1), 25: (0, 1), 26: (1, 0), 27: (1, 0), 28: (0, 1), 29: (1, 0), 30: (1, 0), 31: (1, 0), 32: (1, 0), 33: (1, 0), 34: (1, 0), 35: (1, 0), 36: (1, 0), 37: (0, 1), 38: (1, 0), 39: (1, 0), 40: (0, 1), 41: (1, 0), 42: (1, 0), 43: (1, 0), 44: (0, 1), 45: (2, 1), 46: (1, 0), 47: (2, 0), 48: (0, 1), 49: (2, 0), 50: (1, 0), 51: (2, 0), 52: (1, 1), 53: (1, 0), 54: (2, 0), 55: (2, 0), 56: (2, 0), 57: (1, 1), 58: (2, 0), 59: (2, 0), 60: (1, 2), 61: (2, 0), 62: (1, 1), 63: (2, 1), 64: (1, 1), 65: (3, 0), 66: (1, 1), 67: (2, 0), 68: (1, 0), 69: (1, 0), 70: (1, 0), 71: (2, 0), 72: (1, 0), 73: (1, 0), 74: (1, 0), 75: (0, 2), 76: (0, 2), 77: (1, 0), 78: (1, 0), 79: (1, 0), 80: (1, 0), 81: (2, 0), 82: (1, 0), 83: (1, 0), 84: (2, 0), 85: (2, 0), 86: (1, 1), 87: (1, 0), 88: (1, 0), 89: (2, 1), 90: (1, 0), 91: (3, 0), 92: (1, 0), 93: (3, 0), 94: (1, 0), 95: (1, 0), 96: (3, 0), 97: (1, 3), 98: (0, 2), 99: (1, 1), 100: (2, 0), 101: (2, 0), 102: (1, 0), 103: (2, 0), 104: (1, 0), 105: (1, 0), 106: (1, 0), 107: (2, 0), 108: (0, 1), 109: (1, 1), 110: (1, 0), 111: (2, 0), 112: (1, 0), 113: (1, 0), 114: (1, 0), 115: (1, 1), 116: (1, 0), 117: (1, 0), 118: (1, 1), 119: (1, 0), 120: (1, 0), 121: (2, 0), 122: (3, 0), 123: (3, 0), 124: (1, 0), 125: (1, 0), 126: (1, 0), 127: (4, 0), 128: (4, 0), 129: (1, 2), 130: (1, 2), 131: (1, 3), 132: (1, 1), 133: (3, 0), 134: (1, 0), 135: (2, 1), 136: (1, 0), 137: (2, 1), 138: (1, 1), 139: (2, 0), 140: (2, 0), 141: (2, 0), 142: (2, 0), 143: (2, 1), 144: (1, 0), 145: (2, 0), 146: (1, 0), 147: (1, 0), 148: (1, 0), 149: (1, 1), 150: (0, 1), 151: (2, 0), 152: (1, 0), 153: (1, 0), 154: (1, 0), 155: (1, 0), 156: (1, 0), 157: (2, 0), 158: (1, 0), 159: (2, 0), 160: (2, 0), 161: (1, 1), 162: (1, 2), 163: (1, 0), 164: (3, 0), 165: (1, 0), 166: (3, 0), 167: (1, 0), 168: (2, 1), 169: (0, 1), 170: (2, 1), 171: (1, 0), 172: (2, 0), 173: (2, 0), 174: (1, 0), 175: (1, 0), 176: (2, 1), 177: (2, 1), 178: (1, 2), 179: (2, 0), 180: (3, 0), 181: (2, 0), 182: (3, 0), 183: (1, 0), 184: (1, 0), 185: (1, 0), 186: (1, 0), 187: (1, 1), 188: (1, 0), 189: (1, 0), 190: (1, 0), 191: (0, 1), 192: (1, 0), 193: (1, 0), 194: (1, 0), 195: (2, 0), 196: (1, 0), 197: (1, 0), 198: (3, 0), 199: (1, 0), 200: (1, 0), 201: (1, 0), 202: (3, 0), 203: (1, 2), 204: (1, 0), 205: (2, 0), 206: (1, 0), 207: (1, 0), 208: (1, 0), 209: (1, 0), 210: (0, 2), 211: (1, 0), 212: (1, 0), 213: (1, 0), 214: (4, 0), 215: (4, 0), 216: (1, 0), 217: (1, 0), 218: (1, 0), 219: (5, 0), 220: (1, 0), 221: (1, 0), 222: (6, 0), 223: (1, 0), 224: (1, 0), 225: (5, 2), 226: (0, 4), 227: (2, 0), 228: (3, 0), 229: (1, 0), 230: (1, 0), 231: (2, 0), 232: (3, 0), 233: (1, 0), 234: (3, 0), 235: (0, 1), 236: (3, 0), 237: (1, 2), 238: (3, 1), 239: (0, 1), 240: (2, 1), 241: (2, 0), 242: (2, 1), 243: (1, 1), 244: (2, 0), 245: (3, 0), 246: (1, 0), 247: (1, 0), 248: (1, 0), 249: (1, 1), 250: (1, 0), 251: (2, 0), 252: (1, 0), 253: (2, 0), 254: (0, 1), 255: (1, 0), 256: (1, 1), 257: (2, 0), 258: (2, 0), 259: (1, 0), 260: (1, 0), 261: (1, 0), 262: (1, 0), 263: (2, 0), 264: (1, 0), 265: (1, 0), 266: (2, 1), 267: (1, 2), 268: (1, 0), 269: (1, 0), 270: (2, 0), 271: (1, 0), 272: (2, 0), 273: (1, 0), 274: (1, 1), 275: (1, 0), 276: (1, 0), 277: (2, 0), 278: (2, 0), 279: (1, 0), 280: (1, 0), 281: (1, 0), 282: (2, 0), 283: (2, 0), 284: (1, 1), 285: (1, 1), 286: (1, 1), 287: (1, 0), 288: (2, 0), 289: (4, 0), 290: (2, 0), 291: (3, 1), 292: (1, 0), 293: (1, 2), 294: (2, 0), 295: (4, 0), 296: (2, 0), 297: (2, 0), 298: (1, 0), 299: (3, 0), 300: (2, 0), 301: (1, 0), 302: (2, 0), 303: (1, 0), 304: (2, 0), 305: (0, 1), 306: (1, 1), 307: (1, 0), 308: (2, 0), 309: (2, 0), 310: (1, 0), 311: (1, 0), 312: (1, 0), 313: (1, 0), 314: (2, 0), 315: (1, 0), 316: (2, 0), 317: (1, 0), 318: (1, 0), 319: (1, 0), 320: (3, 1), 321: (2, 0), 322: (1, 0), 323: (1, 0), 324: (1, 0), 325: (2, 0), 326: (0, 2), 327: (2, 1), 328: (3, 0), 329: (3, 0), 330: (5, 0), 331: (1, 0), 332: (1, 0), 333: (1, 0), 334: (5, 0), 335: (1, 0), 336: (1, 0), 337: (3, 1), 338: (2, 2), 339: (1, 1), 340: (2, 0), 341: (1, 0), 342: (2, 0), 343: (1, 0), 344: (1, 0), 345: (1, 1), 346: (1, 1), 347: (2, 2), 348: (1, 0), 349: (3, 0), 350: (2, 0), 351: (3, 1), 352: (3, 0), 353: (1, 0), 354: (1, 2), 355: (2, 0), 356: (2, 0), 357: (2, 0), 358: (1, 0), 359: (2, 0), 360: (1, 1), 361: (1, 0), 362: (1, 0), 363: (1, 0), 364: (2, 0), 365: (1, 0), 366: (2, 0), 367: (1, 0), 368: (1, 0), 369: (1, 0), 370: (1, 1), 371: (0, 1), 372: (1, 0), 373: (3, 0), 374: (1, 0), 375: (1, 0), 376: (2, 0), 377: (1, 1), 378: (1, 0), 379: (2, 0), 380: (1, 0), 381: (2, 0), 382: (1, 0), 383: (1, 0), 384: (1, 0), 385: (2, 0), 386: (0, 1), 387: (1, 0), 388: (1, 0), 389: (2, 0), 390: (3, 0), 391: (1, 0), 392: (1, 0), 393: (1, 0), 394: (1, 0), 395: (3, 0), 396: (0, 1), 397: (2, 1), 398: (1, 0), 399: (3, 0), 400: (2, 1), 401: (4, 0), 402: (3, 0), 403: (1, 0), 404: (2, 0), 405: (1, 0), 406: (1, 1), 407: (4, 1), 408: (4, 0), 409: (1, 0), 410: (1, 1), 411: (1, 0), 412: (1, 0), 413: (1, 0), 414: (1, 0), 415: (1, 0), 416: (1, 1), 417: (1, 0), 418: (1, 0), 419: (0, 1), 420: (2, 0), 421: (2, 0), 422: (1, 0), 423: (1, 0), 424: (1, 0), 425: (4, 0), 426: (1, 0), 427: (1, 0), 428: (2, 1), 429: (1, 2), 430: (1, 0), 431: (2, 0), 432: (1, 0), 433: (1, 0), 434: (1, 0), 435: (1, 1), 436: (1, 0), 437: (1, 0), 438: (1, 0), 439: (3, 0), 440: (3, 0), 441: (2, 0), 442: (2, 0), 443: (1, 0), 444: (2, 0), 445: (2, 0), 446: (1, 0), 447: (1, 0), 448: (1, 0), 449: (1, 0), 450: (1, 0), 451: (1, 0), 452: (1, 0), 453: (1, 0), 454: (1, 0), 455: (1, 0), 456: (1, 0), 457: (1, 0), 458: (1, 0), 459: (0, 1), 460: (0, 1), 461: (1, 0), 462: (1, 0), 463: (1, 0), 464: (1, 0), 465: (1, 1), 466: (1, 0), 467: (1, 0), 468: (1, 0), 469: (1, 0), 470: (1, 0), 471: (1, 0), 472: (1, 0), 473: (1, 0), 474: (1, 0), 475: (1, 0), 476: (1, 0), 477: (1, 0), 478: (0, 1)}\n",
      "Instance name : 3x3 Heisenberg\n"
     ]
    }
   ],
   "source": [
    "res = schedule_circuit(circuit, full_profile=True, decomp_level='Full', instance_name='3x3 Heisenberg', json_output_filename='3x3_heisenberg_sched_output')\n",
    "for r in res:\n",
    "    print(f\"{r} : {res[r]}\")"
   ]
  },
  {
   "cell_type": "code",
   "execution_count": 5,
   "metadata": {},
   "outputs": [
    {
     "data": {
      "image/png": "[encoded data removed]",
      "text/plain": [
       "<Figure size 1500x1000 with 4 Axes>"
      ]
     },
     "metadata": {},
     "output_type": "display_data"
    }
   ],
   "source": [
    "plot_results(res)\n"
   ]
  },
  {
   "cell_type": "markdown",
   "metadata": {},
   "source": [
    "#### Setting Gate Times and Magic State Factories:\n",
    "To specify how long a particular gate takes to operate or to model magic state factories, the user can build a configuration dictionary to be passed to the `architecture_config` argument of the `schedule_circuit` function.\n",
    "\n",
    "##### Magic State Factory Configuration:\n",
    "Each factory is implemented as an instance of the `state_factory` class. This object is initialized with 4 required arguments:\n",
    "* `production_time`: the time it takes to produce a single state.\n",
    "* `consumption_time`: the time it takes to consume a single state, once produced.\n",
    "* `production_limit`: the capacity of the factory's 'state pool', i.e. how many produced states it can hold before halting production.\n",
    "* `success_prob`: the probability (expressed as a `float`) of producing a successful state during a production run. For example, a factory which produces a successful state on every run would have `success_prob = 1.0`, and a factory which produces a successful state half of the time would have `success_prob = 0.5`.\n",
    "\n",
    "If you are creating multiple factories for the same type of state, they do not have to have the same parameters, as seen below. The scheduler will account for all factories and choose one to produce a state when needed."
   ]
  },
  {
   "cell_type": "code",
   "execution_count": 6,
   "metadata": {
    "tags": [
     "build_factory"
    ]
   },
   "outputs": [],
   "source": [
    "t_factory_1 = state_factory(production_time=4, consumption_time=1, production_limit=2, success_prob=0.5)"
   ]
  },
  {
   "cell_type": "markdown",
   "metadata": {},
   "source": [
    "##### Gate Timing Dictionary\n",
    "We can now decide which gates we want included in scheduler analysis and how long those gates take to execute. Using pre-built `sets`, we can specify each desired gate type in one of two ways. A gate which is not reliant on a magic state factory can simply be keyed to an integer representing the time to execute that gate type. A gate which does depend on a factory (or factories) is keyed to its respective factory, if there is only one, or a list of factories, if there are multiple.\n",
    "\n",
    "Using this dictionary, we create an `architecture` object. In general, the only initializing argument for this object will be `user_input_timings`, to which we input the timing dictionary.\n",
    "\n",
    "In the example below, we want to analyze the circuit in terms of T-gates, Clifford gates, and Miscellaneous gates*. Clifford and Miscellaneous gates are not factory-reliant, while T-gates are.\n",
    "\n",
    "*Note that `sets.MISC` includes only Measurement and Qubit Reset \"gates\" and must be included in every timing dictionary.\n",
    "\n"
   ]
  },
  {
   "cell_type": "code",
   "execution_count": 7,
   "metadata": {
    "tags": [
     "build_arch"
    ]
   },
   "outputs": [],
   "source": [
    "my_timings = {sets.T: t_factory_1, sets.CLIFFORD: 1, sets.MISC: 0}\n",
    "my_params = architecture(user_input_timings=my_timings)"
   ]
  },
  {
   "cell_type": "markdown",
   "metadata": {},
   "source": [
    "\n",
    "\n",
    "\n",
    "\n",
    "\n",
    "\n",
    "\n",
    "\n",
    "\n",
    "\n",
    "\n",
    "\n",
    "\n",
    "\n",
    "\n",
    "\n",
    "\n",
    "\n",
    "\n",
    "\n",
    "\n",
    "\n",
    "\n",
    "\n",
    "\n",
    "\n",
    "\n",
    "\n",
    "\n",
    "\n",
    "\n",
    "\n",
    "\n",
    "\n",
    "\n",
    "\n",
    "\n",
    "\n",
    "\n",
    "\n",
    "\n",
    "\n",
    "\n",
    "\n",
    "\n",
    "\n",
    "\n",
    "\n",
    "\n",
    "\n",
    "\n",
    "\n",
    "\n",
    "\n",
    "\n",
    "\n",
    "Finally, we input the `architecture` object as the `architecture_config` argument of `schedule_circuit`, as below. The output of this function will have the same structure as any other `schedule_circuit` call, but the actual values will account for all the architecture specifications we've made. If JSON output is specified, all input architecture parameters will be included in that file."
   ]
  },
  {
   "cell_type": "code",
   "execution_count": 8,
   "metadata": {
    "tags": [
     "factory_schedule"
    ]
   },
   "outputs": [
    {
     "data": {
      "text/plain": [
       "{'Total time for execution': 20062,\n",
       " 'Circuit T-depth': 2759,\n",
       " 'Number of qubits used': 13,\n",
       " 'Gate profile': {'T': 2760, 'Clifford': 5958, 'Measurement/Reset': 60}}"
      ]
     },
     "execution_count": 8,
     "metadata": {},
     "output_type": "execute_result"
    }
   ],
   "source": [
    "schedule_circuit(circuit, architecture_config=my_params, decomp_level='Full')"
   ]
  },
  {
   "cell_type": "markdown",
   "metadata": {},
   "source": [
    "### QASM input/output:\n",
    "\n",
    "In addition to a `cirq.Circuit`, you can input a qasm string (or list of qasm strings) to the `circuit` argument of `schedule_circuit`. You can also receive the scheduled circuit as a qasm output. \n",
    "\n",
    "* NOTE: a number of features will not be available when using qasm input, including the ability to specify `custom_gateset` or any decomposition features.  "
   ]
  },
  {
   "cell_type": "code",
   "execution_count": 9,
   "metadata": {},
   "outputs": [
    {
     "name": "stdout",
     "output_type": "stream",
     "text": [
      "#Operations finishing at 0: \n",
      "#Operations finishing at 100: \n",
      "h q[22]\n",
      "h q[25]\n",
      "h q[7]\n",
      "h q[1]\n",
      "h q[0]\n",
      "#Operations finishing at 200: \n",
      "t q[7]\n",
      "#Operations finishing at 300: \n",
      "t q[1]\n",
      "t q[0]\n",
      "#Operations finishing at 400: \n",
      "cx q[19], q[7]\n",
      "cx q[18], q[7]\n",
      "cx q[23], q[1]\n",
      "#Operations finishing at 500: \n",
      "cx q[7], q[19]\n",
      "cx q[7], q[18]\n",
      "tdg q[19]\n",
      "tdg q[18]\n",
      "t q[7]\n",
      "#Operations finishing at 700: \n",
      "cx q[7], q[19]\n",
      "cx q[7], q[18]\n",
      "#Operations finishing at 800: \n",
      "h q[7]\n",
      "#Operations finishing at 900: \n",
      "s q[7]\n",
      "#Operations finishing at 1100: \n",
      "cx q[7], q[1]\n",
      "#Operations finishing at 1300: \n",
      "cx q[1], q[23]\n",
      "cx q[1], q[7]\n",
      "#Operations finishing at 1400: \n",
      "tdg q[23]\n",
      "tdg q[7]\n",
      "t q[1]\n",
      "#Operations finishing at 1600: \n",
      "cx q[1], q[23]\n",
      "cx q[1], q[7]\n",
      "#Operations finishing at 1700: \n",
      "h q[1]\n",
      "#Operations finishing at 1800: \n",
      "s q[1]\n",
      "Total time for execution: 1800\n",
      "Circuit T-depth: 4\n",
      "Number of qubits used: 8\n",
      "Gate profile: {'T': 9, 'H': 7, 'S': 2, 'CX': 12, 'Toffoli': 0, 'CZ': 0, 'Pauli (X, Y, Z)': 0, 'Measurement/Reset': 0, 'Other': 0, 'CY': 0, 'CS': 0}\n",
      "Active qubit distribution: {5: 1, 1: 5, 2: 2, 6: 1, 7: 1, 4: 3, 3: 1}\n",
      "T-widths: {0: 11, 1: 1, 2: 1, 3: 2}\n",
      "T-proportion: {0: 11, 1.0: 3, 0.6: 1}\n"
     ]
    }
   ],
   "source": [
    "circuit = ['h q[22]','h q[25]','h q[7]','t q[7]','cx q[18], q[7]','cx q[19], q[7]','cx q[7], q[18]','cx q[7], q[19]','tdg q[18]','tdg q[19]','t q[7]','cx q[7], q[18]', 'cx q[7], q[19]', 'h q[7]','s q[7]','h q[1]','t q[1]','cx q[7], q[1]','cx q[23], q[1]','cx q[1], q[7]', 'cx q[1], q[23]','tdg q[7]','tdg q[23]','t q[1]','cx q[1], q[7]','cx q[1], q[23]','h q[1]','s q[1]','h q[0]','t q[0]']\n",
    "\n",
    "res = schedule_circuit(circuit, full_profile=True, qasm_output=True)\n",
    "for r in res:\n",
    "    print(f'{r}: {res[r]}')"
   ]
  }
 ],
 "metadata": {
  "kernelspec": {
   "display_name": "schedule",
   "language": "python",
   "name": "python3"
  },
  "language_info": {
   "codemirror_mode": {
    "name": "ipython",
    "version": 3
   },
   "file_extension": ".py",
   "mimetype": "text/x-python",
   "name": "python",
   "nbconvert_exporter": "python",
   "pygments_lexer": "ipython3",
   "version": "3.11.9"
  }
 },
 "nbformat": 4,
 "nbformat_minor": 4
}
