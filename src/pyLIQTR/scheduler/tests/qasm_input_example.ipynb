{
 "cells": [
  {
   "cell_type": "code",
   "execution_count": 1,
   "metadata": {},
   "outputs": [],
   "source": [
    "circuit = ['h q[22]','h q[25]','h q[7]','t q[7]','cx q[18], q[7]','cx q[19], q[7]','cx q[7], q[18]','cx q[7], q[19]','tdg q[18]','tdg q[19]','t q[7]','cx q[7], q[18]', 'cx q[7], q[19]', 'h q[7]','s q[7]','h q[1]','t q[1]','cx q[7], q[1]','cx q[23], q[1]','cx q[1], q[7]', 'cx q[1], q[23]','tdg q[7]','tdg q[23]','t q[1]','cx q[1], q[7]','cx q[1], q[23]','h q[1]','s q[1]','h q[0]','t q[0]']\n"
   ]
  },
  {
   "cell_type": "code",
   "execution_count": 2,
   "metadata": {},
   "outputs": [
    {
     "name": "stdout",
     "output_type": "stream",
     "text": [
      "Total time for execution: 29\n",
      "Circuit T-depth: 5\n",
      "Number of qubits used: 8\n",
      "Gate profile: {'T': 9, 'H': 7, 'S': 1, 'CX': 12, 'CZ': 0, 'Pauli (X, Y, Z)': 0, 'Rotation': 0, 'Other': 0, 'CY': 0, 'CS': 0}\n",
      "Active qubit distribution: {5: 1, 3: 1, 4: 1, 2: 12, 1: 5}\n",
      "T-widths: {0: 16, 3: 1, 1: 2, 2: 2}\n"
     ]
    }
   ],
   "source": [
    "from pyLIQTR.scheduler.scheduler import schedule_circuit\n",
    "res = schedule_circuit(circuit, full_profile=True)\n",
    "for r in res:\n",
    "    print(f'{r}: {res[r]}')"
   ]
  },
  {
   "cell_type": "code",
   "execution_count": null,
   "metadata": {},
   "outputs": [],
   "source": []
  }
 ],
 "metadata": {
  "kernelspec": {
   "display_name": "Python 3",
   "language": "python",
   "name": "python3"
  },
  "language_info": {
   "codemirror_mode": {
    "name": "ipython",
    "version": 3
   },
   "file_extension": ".py",
   "mimetype": "text/x-python",
   "name": "python",
   "nbconvert_exporter": "python",
   "pygments_lexer": "ipython3",
   "version": "3.11.9"
  }
 },
 "nbformat": 4,
 "nbformat_minor": 2
}
